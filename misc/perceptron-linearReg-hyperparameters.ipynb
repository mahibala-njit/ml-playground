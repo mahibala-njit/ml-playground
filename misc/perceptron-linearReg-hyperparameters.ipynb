{
  "cells": [
    {
      "cell_type": "markdown",
      "metadata": {
        "id": "Tajfsk_7JY3E"
      },
      "source": [
        "**Note to grader:** Each question consists of parts, e.g. Q1(i), Q1(ii), etc. Each part must be graded  on a 0-4 scale, following the standard NJIT convention (A:4, B+: 3.5, B:3, C+: 2.5, C: 2, D:1, F:0).\n",
        "The total score must be re-scaled to 100 -- that should apply to all future assignments so that Canvas assigns the same weight on all assignments.\n",
        "\n"
      ]
    },
    {
      "cell_type": "markdown",
      "metadata": {
        "id": "0EFEd0Xqs5A2"
      },
      "source": [
        "# **Assignment 2**\n",
        "\n",
        "This assignment walks you through the basics of the perceptron. You will also do some first experiments on a toy data set, and check the effect of hyperparameters. The intended goal of the assignment is to familiarize you further with the Jupyter/Colab environment and help you acquire some tools that we will later use to experiment with 'professional-grade' data sets and algorithms.\n",
        "\n",
        "\n",
        "<b>Note: </b> You must run/evaluate all cells. <b>Order of cell execution is important.<b>"
      ]
    },
    {
      "cell_type": "markdown",
      "metadata": {
        "id": "XFiUns92s5A3"
      },
      "source": [
        "## Preparation Steps"
      ]
    },
    {
      "cell_type": "code",
      "execution_count": null,
      "metadata": {
        "id": "7LI03-u2s5A3"
      },
      "outputs": [],
      "source": [
        "# Import all necessary python packages\n",
        "import numpy as np\n",
        "import os\n",
        "import pandas as pd\n",
        "import matplotlib.pyplot as plt\n",
        "from matplotlib.colors import ListedColormap"
      ]
    },
    {
      "cell_type": "code",
      "execution_count": null,
      "metadata": {
        "id": "T_yXB--1s5A7",
        "outputId": "72709407-ebf5-40c8-95a7-0656a8c2f4e0",
        "colab": {
          "base_uri": "https://localhost:8080/"
        }
      },
      "outputs": [
        {
          "output_type": "stream",
          "name": "stdout",
          "text": [
            "URL: https://archive.ics.uci.edu/ml/machine-learning-databases/iris/iris.data\n"
          ]
        }
      ],
      "source": [
        "# ### Reading-in the Iris data\n",
        "\n",
        "s = os.path.join('https://archive.ics.uci.edu', 'ml',\n",
        "                 'machine-learning-databases', 'iris','iris.data')\n",
        "s = s.replace(\"\\\\\",\"/\");\n",
        "print('URL:', s)\n",
        "df = pd.read_csv(s,header=None,encoding='utf-8')\n"
      ]
    },
    {
      "cell_type": "code",
      "execution_count": null,
      "metadata": {
        "id": "M27Ih_Jys5A-",
        "outputId": "930fb768-11e2-4ea8-f795-13cef28d9953",
        "colab": {
          "base_uri": "https://localhost:8080/",
          "height": 279
        }
      },
      "outputs": [
        {
          "output_type": "display_data",
          "data": {
            "text/plain": [
              "<Figure size 432x288 with 1 Axes>"
            ],
            "image/png": "[encoded data removed]"
          },
          "metadata": {
            "needs_background": "light"
          }
        }
      ],
      "source": [
        "# select setosa and versicolor\n",
        "y = df.iloc[0:100, 4].values\n",
        "y = np.where(y == 'Iris-setosa', -1, 1)\n",
        "\n",
        "# extract sepal length and petal length\n",
        "X = df.iloc[:100, [0, 2]].values\n",
        "\n",
        "# plot data\n",
        "plt.scatter(X[:50, 0], X[:50, 1],\n",
        "            color='red', marker='o', label='setosa')\n",
        "plt.scatter(X[50:100, 0], X[50:100, 1],\n",
        "            color='blue', marker='x', label='versicolor')\n",
        "\n",
        "plt.xlabel('sepal length [cm]')\n",
        "plt.ylabel('petal length [cm]')\n",
        "plt.legend(loc='upper left')\n",
        "\n",
        "\n",
        "# plt.savefig('images/02_06.png', dpi=300)\n",
        "plt.show()"
      ]
    },
    {
      "cell_type": "markdown",
      "metadata": {
        "id": "mGypVpOlnmtY"
      },
      "source": [
        "-----------------------\n",
        "-----------------------\n",
        "-----------------------\n",
        "\n"
      ]
    },
    {
      "cell_type": "markdown",
      "metadata": {
        "id": "nu16p_t8s5BA"
      },
      "source": [
        "## <font color='#008DFF'> **Question 0. Manual Perceptron Training**"
      ]
    },
    {
      "cell_type": "markdown",
      "metadata": {
        "id": "BDyWFxPjs5BB"
      },
      "source": [
        "Below you can see the first 5 data points of the data set, all labeled as 'setosa'."
      ]
    },
    {
      "cell_type": "code",
      "execution_count": null,
      "metadata": {
        "id": "tEFG3hqRs5BB",
        "outputId": "b2cd5a4f-e4e0-404c-e750-015e8e98b657"
      },
      "outputs": [
        {
          "data": {
            "text/plain": [
              "(array([[5.1, 1.4],\n",
              "        [4.9, 1.4],\n",
              "        [4.7, 1.3],\n",
              "        [4.6, 1.5],\n",
              "        [5. , 1.4]]),\n",
              " array([-1, -1, -1, -1, -1]))"
            ]
          },
          "execution_count": 4,
          "metadata": {},
          "output_type": "execute_result"
        }
      ],
      "source": [
        "X[0:5], y[0:5]"
      ]
    },
    {
      "cell_type": "markdown",
      "metadata": {
        "id": "b_8xfoZEs5BE"
      },
      "source": [
        "Suppose the initial weights of the perceptron are w0=0.1, w1=0.2, w2=-0.1 . Here $w_0$ is the bias.\n",
        "\n",
        "In the following space (Double click this text), write the weights after processing data points 0,1,2, and show your calculations (with $\\eta = 0.1$):\n",
        "\n",
        "----\n",
        "<b><u>Solution </b> </u>\n",
        "\n",
        "After processing data points 0,1,2, weights are as below\n",
        "\n",
        "w1 = -0.82 <br>\n",
        "w2 = -0.38 <br>\n",
        "w0 (bias) = -0.1<br>\n",
        "\n",
        "----\n",
        "\n",
        "<b><u>Calculation </b> </u>\n",
        "\n",
        "<b>Activation : </b>\n",
        "\n",
        "z =  1, if $w^Tx$ + b > 0<br>\n",
        "z = -1, if $w^Tx$ + b <= 0\n",
        "\n",
        "<b>For first input: x[0] </b>\n",
        "\n",
        "X1 = 5.1 ; X2 = 1.4 ; y (expected) = -1 ; w0 (bias/intercept) = 0.1 ; w1 = 0.2 ; w2 = -0.1  <br>\n",
        "Weighted Sum = w1*X1 + w2*X2 + b = (0.2 * 5.1) + (-0.1 * 1.4) + 0.1 = 0.98 (which is greater than 0)<br>\n",
        "\n",
        "z = 1 <br>\n",
        "Predicted y value is 1 and Expected y value is -1. This is an error. Hence the weights need to be updated using the updated rule.\n",
        "\n",
        "\n",
        "w1 = w1 - $\\eta$ * (Predicted - Expected) * x1 = 0.2 - (0.1 * (1+1) * 5.1) = 0.2 - (0.1*2*5.1) = -0.82<br>\n",
        "w2 = w2 - $\\eta$ * (Predicted - Expected) * x2 = -0.1 - (0.1 * (1+1) * 1.4) = -0.1 - (0.1*2*1.4) = -0.38 <br>\n",
        "b = b - $\\eta$ * (Predicted - Expected) = 0.1 - (0.1* 2 ) = -0.1 <br>\n",
        "\n",
        "<br>\n",
        "<b>\n",
        "Weights after first input: w1 = -0.82 ; w2 = -0.38 ; w0 (or b) = -0.1<br>\n",
        "<br>\n",
        "</b>\n",
        "<br>\n",
        "<b>For second input: x[1] </b>\n",
        "\n",
        "X1 = 4.9 ; X2 = 1.4 ; y (expected) = -1 ; w0 (bias/intercept) = -0.1 ; w1 = -0.82 ; w2 = -0.38 <br>\n",
        "Weighted Sum = w1*X1 + w2*X2 + b = (-0.82 * 4.9) + (-0.38 * 1.4) + (-0.1) = -4.65 (which is lesser than 0) <br>\n",
        "\n",
        "z = -1 <br>\n",
        "Predicted y value is -1 and Expected y value is -1. No Error. Hence the weights and bias remain the same.<br>\n",
        "\n",
        "<br>\n",
        "<b>\n",
        "Weights after second input: w1 = -0.82 ; w2 = -0.38 ; w0 (or b) = -0.1<br>\n",
        "<br>\n",
        "</b>\n",
        "<br>\n",
        "\n",
        "<b>For third input: x[2] </b>\n",
        "\n",
        "X1 = 4.7 ; X2 = 1.3 ; y (expected) = -1 ; w0 (bias/intercept) = -0.1 ; w1 = -0.82 ; w2 = -0.38 <br>\n",
        "Weighted Sum = w1*X1 + w2*X2 + b = (-0.82 * 4.7) + (-0.38 * 1.3) + (-0.1) = -4.448 (which is lesser than 0)<br>\n",
        "\n",
        "z = -1 <br>\n",
        "Predicted y value is -1 and Expected y value is -1. No Error. Hence the weights and bias remain the same.<br>\n",
        "\n",
        "<br>\n",
        "<b>\n",
        "Weights after third input: w1 = -0.82 ; w2 = -0.38 ; w0 (or b) = -0.1<br>\n",
        "<br>\n",
        "</b>\n",
        "<br>\n",
        "\n",
        "\n",
        "\n",
        "\n",
        "\n",
        "\n",
        "\n",
        "\n"
      ]
    },
    {
      "cell_type": "code",
      "execution_count": null,
      "metadata": {
        "id": "zPnHTf9MfT5X"
      },
      "outputs": [],
      "source": [
        "# Grader's area\n",
        "import numpy as np\n",
        "M = np.zeros([10,10])\n",
        "maxScore = 0\n",
        "\n",
        "maxScore = maxScore +4\n",
        "M[0,1] = 4"
      ]
    },
    {
      "cell_type": "markdown",
      "metadata": {
        "id": "aE0lUky4nrL5"
      },
      "source": [
        "-----------------------\n",
        "-----------------------\n",
        "-----------------------\n"
      ]
    },
    {
      "cell_type": "markdown",
      "metadata": {
        "id": "GZr0a5pas5BE"
      },
      "source": [
        "## <font color='#008DFF'> **Question 1. Perceptron Code Modification**"
      ]
    },
    {
      "cell_type": "markdown",
      "metadata": {
        "id": "SpOkp4Ois5BE"
      },
      "source": [
        "The following code is a perceptron implementation (with three do-nothing lines 59-61)."
      ]
    },
    {
      "cell_type": "code",
      "execution_count": null,
      "metadata": {
        "id": "zG3B5C1rs5BF"
      },
      "outputs": [],
      "source": [
        "import numpy as np\n",
        "\n",
        "\n",
        "class Perceptron(object):\n",
        "    \"\"\"Perceptron classifier.\n",
        "\n",
        "    Parameters\n",
        "    ------------\n",
        "    eta : float\n",
        "      Learning rate (between 0.0 and 1.0)\n",
        "    n_iter : int\n",
        "      Passes over the training dataset.\n",
        "    random_state : int\n",
        "      Random number generator seed for random weight\n",
        "      initialization.\n",
        "\n",
        "    Attributes\n",
        "    -----------\n",
        "    w_ : 1d-array\n",
        "      Weights after fitting.\n",
        "    errors_ : list\n",
        "      Number of misclassifications (updates) in each epoch.\n",
        "    trained_iter_ : int\n",
        "      Max Passes over the training set to get errors_ count as 0\n",
        "    weights_hist_ : list\n",
        "      History of Weights\n",
        "\n",
        "    \"\"\"\n",
        "    def __init__(self, eta=0.01, n_iter=50, random_state=1):\n",
        "        self.eta = eta\n",
        "        self.n_iter = n_iter\n",
        "        self.random_state = random_state\n",
        "\n",
        "    def fit(self, X, y):\n",
        "        \"\"\"Fit training data.\n",
        "\n",
        "        Parameters\n",
        "        ----------\n",
        "        X : {array-like}, shape = [n_examples, n_features]\n",
        "          Training vectors, where n_examples is the number of examples and\n",
        "          n_features is the number of features.\n",
        "        y : array-like, shape = [n_examples]\n",
        "          Target values.\n",
        "\n",
        "        Returns\n",
        "        -------\n",
        "        self : object\n",
        "\n",
        "        \"\"\"\n",
        "        rgen = np.random.RandomState(self.random_state)\n",
        "        self.w_ = rgen.normal(loc=0.0, scale=0.01, size=1 + X.shape[1])\n",
        "        self.errors_ = []\n",
        "\n",
        "        # ------------Modified Code-------\n",
        "        # Intializing an attribute to store weight history. First value would be random weights that were chosen.\n",
        "        self.weights_hist_ = []\n",
        "        self.weights_hist_.append(self.w_)\n",
        "        # Intializing an attribute to store Max iterations that were necessary for the training dataset\n",
        "        self.trained_iter_ = 0\n",
        "        # ------------Modified Code-------\n",
        "\n",
        "        for _ in range(self.n_iter):\n",
        "            errors = 0\n",
        "            for xi, target in zip(X, y):\n",
        "                update = self.eta * (target - self.predict(xi))\n",
        "                self.w_[1:] += update * xi\n",
        "                self.w_[0] += update\n",
        "                errors += int(update != 0.0)\n",
        "\n",
        "                # ------------Maintain Weight History----\n",
        "                self.weights_hist_.append(self.w_)\n",
        "                # ------------Maintain Weight History----\n",
        "\n",
        "            self.errors_.append(errors)\n",
        "\n",
        "            # ------------Stop iterating after error count is 0 for an epoch-----\n",
        "            if errors == 0:\n",
        "                self.trained_iter_ = _ + 1\n",
        "                break\n",
        "            # ------------Stop iterating after error count is 0 for an epoch-----\n",
        "\n",
        "            # my do-nothing code\n",
        "            IK = 2020\n",
        "            # my do-nothing code\n",
        "\n",
        "        return self\n",
        "\n",
        "    def net_input(self, X):\n",
        "        \"\"\"Calculate net input\"\"\"\n",
        "        return np.dot(X, self.w_[1:]) + self.w_[0]\n",
        "\n",
        "    def predict(self, X):\n",
        "        \"\"\"Return class label after unit step\"\"\"\n",
        "        return np.where(self.net_input(X) >= 0.0, 1, -1)"
      ]
    },
    {
      "cell_type": "markdown",
      "metadata": {
        "id": "KSp8dd3Ws5BH"
      },
      "source": [
        "\n",
        "Work on the above cell and modify the code so that:\n",
        "\n",
        "(i) The fit function stops when no more iterations are necessary. <br>\n",
        "(ii) The trained perceptron contains as an attribute not only its weights, but also the number of iterations it took for training <br>\n",
        "(iii) The perceptron maintains a history of its weights, i.e. the set of weights after each point is processed.\n",
        "\n",
        "To modify the code please insert your code with clear comments surrounding it, similarly to \"my do-nothing code\". Make sure you evaluate the cell again,  so that following cells will be using the modified perceptron.\n",
        "\n"
      ]
    },
    {
      "cell_type": "code",
      "execution_count": null,
      "metadata": {
        "id": "jhbNBujBE6AZ"
      },
      "outputs": [],
      "source": [
        "# Grader's area\n",
        "\n",
        "maxScore = maxScore +12\n",
        "M[1,1] = 4\n",
        "M[1,2] = 4\n",
        "M[1,3] = 2"
      ]
    },
    {
      "cell_type": "markdown",
      "metadata": {
        "id": "HJnkSzlLntr7"
      },
      "source": [
        "-----------------------\n",
        "-----------------------\n",
        "-----------------------\n"
      ]
    },
    {
      "cell_type": "markdown",
      "metadata": {
        "id": "FE-HlQjrs5BH"
      },
      "source": [
        "## <font color='#008DFF'> **Question2: Experimenting with hyperparameters**"
      ]
    },
    {
      "cell_type": "code",
      "execution_count": null,
      "metadata": {
        "id": "_1LFHklis5BI",
        "outputId": "fa3b4cc4-bca8-43f3-b284-3138e26fa221"
      },
      "outputs": [
        {
          "data": {
            "image/png": "[encoded data removed]",
            "text/plain": [
              "<Figure size 432x288 with 1 Axes>"
            ]
          },
          "metadata": {
            "needs_background": "light"
          },
          "output_type": "display_data"
        }
      ],
      "source": [
        "\n",
        "ppn = Perceptron(eta=0.00005,  random_state=1)\n",
        "\n",
        "ppn.fit(X, y)\n",
        "\n",
        "plt.plot(range(1, len(ppn.errors_) + 1), ppn.errors_, marker='o')\n",
        "plt.xlabel('Epochs')\n",
        "plt.ylabel('Number of updates')\n",
        "\n",
        "\n",
        "plt.show()\n",
        "\n"
      ]
    },
    {
      "cell_type": "markdown",
      "metadata": {
        "id": "TPJ-seyas5BL"
      },
      "source": [
        "Running the above code, you can verify if your modification in question 1 works correctly. The point of this question is to experiment with the different hyperparameters. Here are some specific questions:<br>\n",
        "(i) Find the largest value of $\\eta$ for which the process takes more than 20 iterations to converge. Explain how you found that $\\eta$ <br>\n",
        "(ii) Are you able to find $\\eta>1$ for which the process fails to converge in less than 30 iterations? <br>\n",
        "(iii) Find two different settings for the random state, that give different convergence patterns, for the same $\\eta$.\n",
        "\n",
        "Please give your answers in the cell below."
      ]
    },
    {
      "cell_type": "code",
      "execution_count": null,
      "metadata": {
        "id": "ZzLr6f3oTPFS",
        "outputId": "085ab09c-0feb-497e-d585-91587995fc32"
      },
      "outputs": [
        {
          "name": "stdout",
          "output_type": "stream",
          "text": [
            "Number of iterations that were required : 21\n"
          ]
        }
      ],
      "source": [
        "# Check the iterations count required to get error = 0\n",
        "print(\"Number of iterations that were required : {}\".format(ppn.trained_iter_))"
      ]
    },
    {
      "cell_type": "markdown",
      "metadata": {
        "id": "VaV2vDTzs5BL"
      },
      "source": [
        "\n",
        "<br>Double click here to type your answer\n",
        "<br>\n",
        "<br>\n",
        "<b> Answers </b> <br>\n",
        "<br> (i) eta=0.00005. <br>To get the eta value where the required iterations to get error count as 0 should be greater the 20, used the trial and error method. Also, with decrease in ETA, the number of iterations taken by the process to converge increases. For eta=0.00006, process converges at iteration 19. For eta=0.00005, we get 21. For eta=0.00004, iterations count is 23.  So if we further increase the eta from 0.00006, we end up getting iterations count lesser than 20.\n",
        "<br>\n",
        "So as per the observations from the convergence plot, chose eta=0.00005 as it converges at 21st iteration\n",
        "\n",
        "<br>\n",
        "<br> (ii) No. <br>For eta >= 1, the required iterations count is 6. So even if we increase the eta value, the required iterations is always 6. So there is no eta > 1 which would fail converge in less than 30 iterations.\n",
        "<br>\n",
        "<br> (iii) With eta=0.0001, for random_state = 5, process converges at iteration 2. Please see the plots below. <br>\n",
        "With eta=0.0001 and random_state = 2, process converges at iteration 17 <br>\n",
        "With same eta, each change in random_state, the convergence pattern changes.\n",
        "<br>"
      ]
    },
    {
      "cell_type": "code",
      "execution_count": null,
      "metadata": {
        "id": "naQpNpcUTPFU",
        "outputId": "91c1c9db-3a30-4a86-d343-7279dcf6edc8"
      },
      "outputs": [
        {
          "data": {
            "image/png": "[encoded data removed]",
            "text/plain": [
              "<Figure size 432x288 with 1 Axes>"
            ]
          },
          "metadata": {
            "needs_background": "light"
          },
          "output_type": "display_data"
        }
      ],
      "source": [
        "# Question 2(iii) - Convergence Pattern 1 - random_state = 5\n",
        "ppn = Perceptron(eta=0.0001,  random_state=5)\n",
        "\n",
        "ppn.fit(X, y)\n",
        "\n",
        "plt.plot(range(1, len(ppn.errors_) + 1), ppn.errors_, marker='o')\n",
        "plt.xlabel('Epochs')\n",
        "plt.ylabel('Number of updates')\n",
        "\n",
        "\n",
        "plt.show()"
      ]
    },
    {
      "cell_type": "code",
      "execution_count": null,
      "metadata": {
        "id": "hUKe0jgHTPFV",
        "outputId": "282d74a8-8372-404e-9c02-d794d5015ffb"
      },
      "outputs": [
        {
          "data": {
            "image/png": "[encoded data removed]",
            "text/plain": [
              "<Figure size 432x288 with 1 Axes>"
            ]
          },
          "metadata": {
            "needs_background": "light"
          },
          "output_type": "display_data"
        }
      ],
      "source": [
        "# Question 2(iii) - Convergence Pattern 2 - random_state = 2\n",
        "ppn = Perceptron(eta=0.0001,  random_state=2)\n",
        "\n",
        "ppn.fit(X, y)\n",
        "\n",
        "plt.plot(range(1, len(ppn.errors_) + 1), ppn.errors_, marker='o')\n",
        "plt.xlabel('Epochs')\n",
        "plt.ylabel('Number of updates')\n",
        "\n",
        "\n",
        "plt.show()"
      ]
    },
    {
      "cell_type": "code",
      "execution_count": null,
      "metadata": {
        "id": "nK1mGz3wFJXh"
      },
      "outputs": [],
      "source": [
        "# Grader's area\n",
        "\n",
        "maxScore = maxScore +12\n",
        "M[2,1] = 4\n",
        "M[2,2] =4\n",
        "M[2,3] =4"
      ]
    },
    {
      "cell_type": "markdown",
      "metadata": {
        "id": "-PoSjSM3nvv4"
      },
      "source": [
        "-----------------------\n",
        "-----------------------\n",
        "-----------------------\n"
      ]
    },
    {
      "cell_type": "markdown",
      "metadata": {
        "id": "gmq48m4Is5BM"
      },
      "source": [
        "## <font color='#008DFF'> **Question 3: Visualizing multiple decision regions over time**"
      ]
    },
    {
      "cell_type": "markdown",
      "metadata": {
        "id": "2-japBw1s5BM"
      },
      "source": [
        "Here is the function for visualizing decision regions"
      ]
    },
    {
      "cell_type": "code",
      "execution_count": null,
      "metadata": {
        "id": "xYEgTzp0s5BN"
      },
      "outputs": [],
      "source": [
        "from matplotlib.colors import ListedColormap\n",
        "\n",
        "\n",
        "def plot_decision_regions(X, y, classifier, resolution=0.02):\n",
        "\n",
        "    # setup marker generator and color map\n",
        "    markers = ('s', 'x', 'o', '^', 'v')\n",
        "    colors = ('red', 'blue', 'lightgreen', 'gray', 'cyan')\n",
        "    cmap = ListedColormap(colors[:len(np.unique(y))])\n",
        "\n",
        "    # plot the decision surface\n",
        "    x1_min, x1_max = X[:, 0].min() - 1, X[:, 0].max() + 1\n",
        "    x2_min, x2_max = X[:, 1].min() - 1, X[:, 1].max() + 1\n",
        "    xx1, xx2 = np.meshgrid(np.arange(x1_min, x1_max, resolution),\n",
        "                           np.arange(x2_min, x2_max, resolution))\n",
        "    Z = classifier.predict(np.array([xx1.ravel(), xx2.ravel()]).T)\n",
        "    Z = Z.reshape(xx1.shape)\n",
        "    plt.contourf(xx1, xx2, Z, alpha=0.3, cmap=cmap)\n",
        "    plt.xlim(xx1.min(), xx1.max())\n",
        "    plt.ylim(xx2.min(), xx2.max())\n",
        "\n",
        "    # plot class examples\n",
        "    for idx, cl in enumerate(np.unique(y)):\n",
        "        plt.scatter(x=X[y == cl, 0],\n",
        "                    y=X[y == cl, 1],\n",
        "                    alpha=0.8,\n",
        "                    c=colors[idx],\n",
        "                    marker=markers[idx],\n",
        "                    label=cl,\n",
        "                    edgecolor='black')"
      ]
    },
    {
      "cell_type": "code",
      "execution_count": null,
      "metadata": {
        "id": "BuQZjt4Ls5BP",
        "outputId": "d5bb4731-f41f-40b8-c79f-d15243680fe0",
        "scrolled": true
      },
      "outputs": [
        {
          "data": {
            "image/png": "[encoded data removed]",
            "text/plain": [
              "<Figure size 432x288 with 1 Axes>"
            ]
          },
          "metadata": {
            "needs_background": "light"
          },
          "output_type": "display_data"
        }
      ],
      "source": [
        "plot_decision_regions(X, y, classifier=ppn)\n",
        "plt.xlabel('sepal length [cm]')\n",
        "plt.ylabel('petal length [cm]')\n",
        "plt.legend(loc='upper left')\n",
        "\n",
        "\n",
        "# plt.savefig('images/02_08.png', dpi=300)\n",
        "plt.show()"
      ]
    },
    {
      "cell_type": "markdown",
      "metadata": {
        "id": "1flxKzOJs5BR"
      },
      "source": [
        "Using the above, give code that plots the decision regions for the first 5 epochs. Use learning rate = 0.01 and random seed = 1 when applicable."
      ]
    },
    {
      "cell_type": "code",
      "execution_count": null,
      "metadata": {
        "id": "ELrAxgSMs5BR",
        "outputId": "aa16e025-6648-4154-8e6e-0555108b32e0"
      },
      "outputs": [
        {
          "data": {
            "image/png": "[encoded data removed]",
            "text/plain": [
              "<Figure size 432x288 with 1 Axes>"
            ]
          },
          "metadata": {
            "needs_background": "light"
          },
          "output_type": "display_data"
        },
        {
          "data": {
            "image/png": "[encoded data removed]",
            "text/plain": [
              "<Figure size 432x288 with 1 Axes>"
            ]
          },
          "metadata": {
            "needs_background": "light"
          },
          "output_type": "display_data"
        },
        {
          "data": {
            "image/png": "[encoded data removed]",
            "text/plain": [
              "<Figure size 432x288 with 1 Axes>"
            ]
          },
          "metadata": {
            "needs_background": "light"
          },
          "output_type": "display_data"
        },
        {
          "data": {
            "image/png": "[encoded data removed]",
            "text/plain": [
              "<Figure size 432x288 with 1 Axes>"
            ]
          },
          "metadata": {
            "needs_background": "light"
          },
          "output_type": "display_data"
        },
        {
          "data": {
            "image/png": "[encoded data removed]",
            "text/plain": [
              "<Figure size 432x288 with 1 Axes>"
            ]
          },
          "metadata": {
            "needs_background": "light"
          },
          "output_type": "display_data"
        }
      ],
      "source": [
        "for i in range(5):\n",
        "    ppn5 = Perceptron(eta=0.01, n_iter=i+1, random_state=1)\n",
        "    ppn5.fit(X,y)\n",
        "\n",
        "    plot_decision_regions(X, y, classifier=ppn5)\n",
        "    plt.xlabel('sepal length [cm]')\n",
        "    plt.ylabel('petal length [cm]')\n",
        "    plt.legend(loc='upper left')\n",
        "    plt.title('Decision Region after Epoch : {}'.format(i+1))\n",
        "\n",
        "    # plt.savefig('images/02_08.png', dpi=300)\n",
        "    plt.show()\n",
        ""
      ]
    },
    {
      "cell_type": "code",
      "execution_count": null,
      "metadata": {
        "id": "XdYK3Wq-FdLx"
      },
      "outputs": [],
      "source": [
        "# Grader's area\n",
        "\n",
        "maxScore = maxScore +4\n",
        "M[3,1] = 4\n"
      ]
    },
    {
      "cell_type": "markdown",
      "metadata": {
        "id": "25qE27hgnxUe"
      },
      "source": [
        "-----------------------\n",
        "-----------------------\n",
        "-----------------------\n"
      ]
    },
    {
      "cell_type": "markdown",
      "metadata": {
        "id": "K9NMguEVs5BU"
      },
      "source": [
        "## <font color='#008DFF'> **Question 4: Changing the data order in training**\n",
        "\n"
      ]
    },
    {
      "cell_type": "markdown",
      "metadata": {
        "id": "YaspqG0Vs5BU"
      },
      "source": [
        "The data arrays (X,y) currently in the memory are organized so that the all data points with a given label (e.g. 'Setosa') lie in a contiguous part of the arrays (X,y). In this question we will check the impact of changing the order of the data in the number of iterations required to learn a correct perceptron.\n",
        "\n",
        "\n",
        "The commented code below needs a small change in order to generate a random shuffle (also called permutation) of the data). Please look up the particular functions of the code, see how they work and then do the required modification and uncomment/evaluate the code."
      ]
    },
    {
      "cell_type": "code",
      "execution_count": null,
      "metadata": {
        "id": "p7vn0JpBs5BV"
      },
      "outputs": [],
      "source": [
        "# establish a random shuffle\n",
        "s = np.arange(X.shape[0])\n",
        "np.random.shuffle(s)\n",
        "# shuffle sample\n",
        "X_shuffle = X[s];\n",
        "y_shuffle = y[s];\n"
      ]
    },
    {
      "cell_type": "code",
      "execution_count": null,
      "metadata": {
        "id": "bvZlnOnxTPFd",
        "outputId": "4e77d71b-2742-4924-ec07-f3efb17be7b2"
      },
      "outputs": [
        {
          "name": "stdout",
          "output_type": "stream",
          "text": [
            "[88 36 12 16 57 59 14 82 96 52 17 66 15 55  8 13 54 86  9 31 38 61  6 24\n",
            " 30 34 62  7  1 87 79 83 43 56 69 93 65 73 40 42 89 26 19  5 95 84 64 92\n",
            " 81 74  0  2 49 72 29 27  3 45 18 47 90 10 75 37 60 80 85 35 28 67 77 78\n",
            "  4 91 99 71 11 70 41 50 20 76 51 46 53 44 33 25 68 23 22 63 39 58 21 32\n",
            " 94 48 98 97]\n"
          ]
        }
      ],
      "source": [
        "print(s)"
      ]
    },
    {
      "cell_type": "markdown",
      "metadata": {
        "id": "iMRQkM_1s5BZ"
      },
      "source": [
        "Modify the code below as follows: <br>\n",
        "(i) Pick a sufficiently small $\\eta$ so that convergences takes 20 iterations or more <br>\n",
        "(ii) Add an extra line that fits the perceptron on the shuffled data <br>\n",
        "(iii) Plot the error for both training processes (the original, and the shuffled ata) <br>\n",
        "\n",
        "What do you observe?"
      ]
    },
    {
      "cell_type": "code",
      "execution_count": null,
      "metadata": {
        "id": "uL1T1_7As5BZ",
        "outputId": "7e8198f3-6505-4f14-8d4b-090e29abd647"
      },
      "outputs": [
        {
          "data": {
            "image/png": "[encoded data removed]",
            "text/plain": [
              "<Figure size 432x288 with 1 Axes>"
            ]
          },
          "metadata": {
            "needs_background": "light"
          },
          "output_type": "display_data"
        }
      ],
      "source": [
        "ppn5 = Perceptron(eta=0.00004, n_iter=50, random_state=1)\n",
        "ppn5.fit(X, y)\n",
        "\n",
        "ppn_shuffle = Perceptron(eta=0.00004, n_iter=50, random_state=1)\n",
        "ppn_shuffle.fit(X_shuffle, y_shuffle)\n",
        "\n",
        "plt.plot(range(1, len(ppn5.errors_) + 1), ppn5.errors_, marker='o', label = 'Original')\n",
        "plt.plot(range(1, len(ppn_shuffle.errors_) + 1), ppn_shuffle.errors_, marker='x',label = 'Shuffled')\n",
        "\n",
        "#refx = [5, 5, 5, 5]\n",
        "#refy = [-5, 0, 50, 70]\n",
        "\n",
        "#plt.plot(refx,refy,label = 'Convergence for Shuffled')\n",
        "\n",
        "plt.xlabel('Epochs')\n",
        "plt.ylabel('Number of updates')\n",
        "\n",
        "plt.legend()\n",
        "\n",
        "# plt.savefig('images/02_07.png', dpi=300)\n",
        "plt.show()"
      ]
    },
    {
      "cell_type": "markdown",
      "metadata": {
        "id": "XA3HAeKJs5Bc"
      },
      "source": [
        "# -- Give your answers here\n",
        "\n",
        "(i) Pick a sufficiently small $\\eta$ so that convergences takes 20 iterations or more <br>\n",
        "Chose eta to be 0.00004 <br>\n",
        "<br>\n",
        "(ii) Add an extra line that fits the perceptron on the shuffled data <br>\n",
        "Added the line to to show the convergence pattern for the shuffled data <br>\n",
        "<br>\n",
        "(iii) Plot the error for both training processes (the original, and the shuffled ata) <br>\n",
        "Plot above <br>\n",
        "<br>\n",
        "What do you observe? <br>\n",
        "<br>\n",
        "Covergence pattern differs between the original dataset and the shuffled dataset. The shuffled dataset fit converged at 5th iteration whereas the original dataset converged at 24th iteration for the same eta.\n",
        "<br>\n",
        "<br>\n",
        "This implies that the order of the training dataset plays an important role in training of a Perceptron and directly affects the number of iterations needed to train a correct perceptron. In this case of shuffle, it reduced number of iterations needed for the fit.\n",
        "\n",
        "<br>\n",
        "<br>\n",
        "<br>"
      ]
    },
    {
      "cell_type": "code",
      "execution_count": null,
      "metadata": {
        "id": "0RXr9FkQFikr"
      },
      "outputs": [],
      "source": [
        "# Grader's area\n",
        "\n",
        "maxScore = maxScore +12\n",
        "M[4,1] = 4\n",
        "M[4,2] = 4\n",
        "M[4,3] = 4"
      ]
    },
    {
      "cell_type": "markdown",
      "metadata": {
        "id": "Tq_fo7MQnysW"
      },
      "source": [
        "-----------------------\n",
        "-----------------------\n",
        "-----------------------\n"
      ]
    },
    {
      "cell_type": "markdown",
      "metadata": {
        "id": "2AYf1oGGs5Bi"
      },
      "source": [
        "## <font color='#008DFF'> **Question 5: Understanding linear transformations**\n",
        "\n",
        "Suppose we have a 2-dimensional data set. Then we transform each data point $X_j = (X_{j,1}, X_{j,2})$ as follows: $\\tilde{X_j} = ( a X_{j,1} - c, b X_{j,2}-c)$, where $a,b,c$ are constant numbers. This is a linear transformation, because our transformed data comes from simple operations that use 'first powers' of the original data.\n",
        "\n",
        "\n",
        "If our given data set is linearly separable, is the same true for the transformed one? In the following cells you can plot a transformed version of the Iris dataset, so that you see how it behaves (for your choice of $a, b, c$.) But you should also try and justify your answer in a theoretical way: if there exists a  'good' perceptron for the original data set, what would be the weights for the perceptron that works on the transformed set?"
      ]
    },
    {
      "cell_type": "code",
      "execution_count": null,
      "metadata": {
        "id": "oXawcufks5Bi",
        "outputId": "cf643151-7004-40cf-a443-16cee4410e54"
      },
      "outputs": [
        {
          "name": "stdout",
          "output_type": "stream",
          "text": [
            "[[5.1 1.4]\n",
            " [4.9 1.4]]\n"
          ]
        }
      ],
      "source": [
        "# Transform the Iris dataset, Multiply by constants and subtract by a constant\n",
        "# Choice a = 5, b = 4, c=2\n",
        "a = 5\n",
        "b = 4\n",
        "c = 2\n",
        "\n",
        "Xtrans = df.iloc[:100, [0, 2]].values\n",
        "\n",
        "# Pre transform spot check\n",
        "print(Xtrans[0:2])"
      ]
    },
    {
      "cell_type": "code",
      "execution_count": null,
      "metadata": {
        "id": "Aq3TcUyMTPFh"
      },
      "outputs": [],
      "source": [
        "# Applying linear transformations\n",
        "Xtrans[:,0] *= a\n",
        "Xtrans[:,1] *= b\n",
        "Xtrans -= c"
      ]
    },
    {
      "cell_type": "code",
      "execution_count": null,
      "metadata": {
        "id": "tFKhaEpYTPFh",
        "outputId": "9995a889-e42a-434e-bb72-2eb94858a972"
      },
      "outputs": [
        {
          "data": {
            "text/plain": [
              "array([[23.5,  3.6],\n",
              "       [22.5,  3.6]])"
            ]
          },
          "execution_count": 23,
          "metadata": {},
          "output_type": "execute_result"
        }
      ],
      "source": [
        "# Post transform spot check\n",
        "Xtrans[0:2]"
      ]
    },
    {
      "cell_type": "code",
      "execution_count": null,
      "metadata": {
        "id": "TBC5mH8ATPFh",
        "outputId": "9808155f-f66e-4be8-a7c4-203db1c8b794"
      },
      "outputs": [
        {
          "data": {
            "text/plain": [
              "Text(0.5, 1.0, 'Original Iris data')"
            ]
          },
          "execution_count": 24,
          "metadata": {},
          "output_type": "execute_result"
        },
        {
          "data": {
            "image/png": "[encoded data removed]",
            "text/plain": [
              "<Figure size 432x288 with 1 Axes>"
            ]
          },
          "metadata": {
            "needs_background": "light"
          },
          "output_type": "display_data"
        }
      ],
      "source": [
        "# plot Original data\n",
        "plt.scatter(X[:50, 0], X[:50, 1],\n",
        "            color='red', marker='o', label='setosa')\n",
        "plt.scatter(X[50:100, 0], X[50:100, 1],\n",
        "            color='blue', marker='x', label='versicolor')\n",
        "\n",
        "plt.xlabel('sepal length [cm]')\n",
        "plt.ylabel('petal length [cm]')\n",
        "plt.legend(loc='upper left')\n",
        "plt.title('Original Iris data')"
      ]
    },
    {
      "cell_type": "code",
      "execution_count": null,
      "metadata": {
        "id": "988uwhhSTPFi",
        "outputId": "f191d442-b837-4afd-ed28-a62c436f275e"
      },
      "outputs": [
        {
          "data": {
            "text/plain": [
              "Text(0.5, 1.0, 'Transformed Iris data')"
            ]
          },
          "execution_count": 25,
          "metadata": {},
          "output_type": "execute_result"
        },
        {
          "data": {
            "image/png": "[encoded data removed]",
            "text/plain": [
              "<Figure size 432x288 with 1 Axes>"
            ]
          },
          "metadata": {
            "needs_background": "light"
          },
          "output_type": "display_data"
        }
      ],
      "source": [
        "# plot Transformed data\n",
        "plt.scatter(Xtrans[:50, 0], Xtrans[:50, 1],\n",
        "            color='red', marker='o', label='setosa')\n",
        "plt.scatter(Xtrans[50:100, 0], Xtrans[50:100, 1],\n",
        "            color='blue', marker='x', label='versicolor')\n",
        "\n",
        "plt.xlabel('sepal length [cm]')\n",
        "plt.ylabel('petal length [cm]')\n",
        "plt.legend(loc='upper left')\n",
        "plt.title('Transformed Iris data')"
      ]
    },
    {
      "cell_type": "code",
      "execution_count": null,
      "metadata": {
        "id": "IANWFE8xTPFj",
        "outputId": "ad1f0ef9-5dfa-4d63-e5b5-44117c665f07"
      },
      "outputs": [
        {
          "data": {
            "image/png": "[encoded data removed]",
            "text/plain": [
              "<Figure size 432x288 with 1 Axes>"
            ]
          },
          "metadata": {
            "needs_background": "light"
          },
          "output_type": "display_data"
        }
      ],
      "source": [
        "# plot of convergence pattern for Original dataset\n",
        "\n",
        "ppn_orig = Perceptron(n_iter=50, random_state=1)\n",
        "ppn_orig.fit(X, y)\n",
        "\n",
        "plt.plot(range(1, len(ppn_orig.errors_) + 1), ppn_orig.errors_, marker='o', label = 'Original')\n",
        "#plt.plot(range(1, len(ppn_trans.errors_) + 1), ppn_trans.errors_, marker='x', label = 'Transformed')\n",
        "\n",
        "plt.xlabel('Epochs')\n",
        "plt.ylabel('Number of updates')\n",
        "\n",
        "# plt.savefig('images/02_07.png', dpi=300)\n",
        "plt.legend()\n",
        "\n",
        "plt.show()"
      ]
    },
    {
      "cell_type": "code",
      "execution_count": null,
      "metadata": {
        "id": "yLuXtg3_TPFj",
        "outputId": "dbdbf81a-504a-4711-afcb-3f4b5a03963b"
      },
      "outputs": [
        {
          "data": {
            "image/png": "[encoded data removed]",
            "text/plain": [
              "<Figure size 432x288 with 1 Axes>"
            ]
          },
          "metadata": {
            "needs_background": "light"
          },
          "output_type": "display_data"
        }
      ],
      "source": [
        "# plot of convergence pattern for transformed dataset\n",
        "\n",
        "ppn_trans = Perceptron( n_iter=50, random_state=1)\n",
        "ppn_trans.fit(Xtrans, y)\n",
        "\n",
        "#plt.plot(range(1, len(ppn_orig.errors_) + 1), ppn_orig.errors_, marker='o', label = 'Original')\n",
        "plt.plot(range(1, len(ppn_trans.errors_) + 1), ppn_trans.errors_, marker='x', label = 'Transformed')\n",
        "\n",
        "plt.xlabel('Epochs')\n",
        "plt.ylabel('Number of updates')\n",
        "\n",
        "# plt.savefig('images/02_07.png', dpi=300)\n",
        "plt.legend()\n",
        "\n",
        "plt.show()"
      ]
    },
    {
      "cell_type": "code",
      "execution_count": null,
      "metadata": {
        "id": "dhLHxN9jTPFk",
        "outputId": "da99867f-62c6-48a7-d866-55f58e93e7c4"
      },
      "outputs": [
        {
          "data": {
            "image/png": "[encoded data removed]",
            "text/plain": [
              "<Figure size 432x288 with 1 Axes>"
            ]
          },
          "metadata": {
            "needs_background": "light"
          },
          "output_type": "display_data"
        },
        {
          "data": {
            "image/png": "[encoded data removed]",
            "text/plain": [
              "<Figure size 432x288 with 1 Axes>"
            ]
          },
          "metadata": {
            "needs_background": "light"
          },
          "output_type": "display_data"
        }
      ],
      "source": [
        "# Decision boundary for the Original vs Transformed dataset.\n",
        "# This clearly shows both original and the transformed dataset are linearly separable\n",
        "\n",
        "plot_decision_regions(X, y, classifier=ppn_orig)\n",
        "plt.xlabel('sepal length [cm]')\n",
        "plt.ylabel('petal length [cm]')\n",
        "plt.legend(loc='upper left')\n",
        "plt.title(\"Original Dataset - Decision boundary\")\n",
        "\n",
        "# plt.savefig('images/02_08.png', dpi=300)\n",
        "plt.show()\n",
        "\n",
        "###########################################################\n",
        "plot_decision_regions(Xtrans, y, classifier=ppn_trans)\n",
        "plt.xlabel('sepal length [cm]')\n",
        "plt.ylabel('petal length [cm]')\n",
        "plt.legend(loc='upper left')\n",
        "plt.title(\"Transformed Dataset - Decision boundary\")\n",
        "\n",
        "# plt.savefig('images/02_08.png', dpi=300)\n",
        "plt.show()"
      ]
    },
    {
      "cell_type": "code",
      "execution_count": null,
      "metadata": {
        "id": "CS0sCaD9TPFk",
        "outputId": "fbe1f6b6-4f6a-411b-d011-bd857dd88f1b"
      },
      "outputs": [
        {
          "name": "stdout",
          "output_type": "stream",
          "text": [
            "Final weights for original dataset: [-0.02375655 -0.07011756  0.17671828]\n",
            "Final weights for transformed dataset: [-0.02375655 -0.25611756  0.81071828]\n"
          ]
        }
      ],
      "source": [
        "# Display the weights of the original dataset fit\n",
        "print(\"Final weights for original dataset: {}\".format(ppn_orig.w_))\n",
        "# Display the weights of the original dataset fit\n",
        "print(\"Final weights for transformed dataset: {}\".format(ppn_trans.w_))"
      ]
    },
    {
      "cell_type": "markdown",
      "metadata": {
        "id": "n7v_1XU2TPFl"
      },
      "source": [
        "<b>Observation</b>\n",
        "    <br>\n",
        "\n",
        "By eyeballing at the scatter plot for the original dataset, we can infer that the  original dataset is linearly separable. Also, the plot of \"Epochs Vs Number of updates\" shows that Original dataset converges at 6th iteration for eta=0.01 (i.e, number of errors becomes 0 at 6th iteration).\n",
        "\n",
        "The scatter plot for transformed dataset is similar to the original except the increase in x and y values (magnitude increase). The transformed dataset converges at 6th iteration for eta=0.01.  Both these points and the plots above prove that the transformed dataset is linearly separable as well.\n",
        "\n",
        "This proves that given the original dataset is linearly separable, linear transformation does increase the magnitude but does not affect the nature of linear separability."
      ]
    },
    {
      "cell_type": "code",
      "execution_count": null,
      "metadata": {
        "id": "NVpxHL7PH0K5"
      },
      "outputs": [],
      "source": [
        "# Grader's area\n",
        "\n",
        "maxScore = maxScore +4\n",
        "M[5,1] = 4\n"
      ]
    },
    {
      "cell_type": "code",
      "execution_count": null,
      "metadata": {
        "id": "dzi3tg8ZITdP"
      },
      "outputs": [],
      "source": []
    },
    {
      "cell_type": "markdown",
      "metadata": {
        "id": "rPupiZJMnz7N"
      },
      "source": [
        "-----------------------\n",
        "-----------------------\n",
        "-----------------------\n"
      ]
    },
    {
      "cell_type": "markdown",
      "metadata": {
        "id": "vsYrJLtXLXXl"
      },
      "source": [
        "## <font color='#008DFF'> **Question 6: Linear regression with numpy 1-liners**"
      ]
    },
    {
      "cell_type": "code",
      "execution_count": null,
      "metadata": {
        "id": "ZF6ZpxTdLdN0"
      },
      "outputs": [],
      "source": [
        "# here we initialize a random data matrix X and random numerical labels y\n",
        "import numpy as np\n",
        "\n",
        "X = np.random.randn(10,3)\n",
        "y = np.random.randn(10,1)\n",
        "\n",
        "# we also initialize a hypothetical hyperplane defined by w and b\n",
        "w = np.random.randn(1,3)\n",
        "b = -1\n"
      ]
    },
    {
      "cell_type": "code",
      "execution_count": null,
      "metadata": {
        "id": "OFJ8HyPwMF_1",
        "outputId": "58829fa3-3b3f-4c1e-f766-78e88e14eeff"
      },
      "outputs": [
        {
          "name": "stdout",
          "output_type": "stream",
          "text": [
            "[[ 0.27204388]\n",
            " [-5.71303655]\n",
            " [-3.80154117]\n",
            " [-0.46238381]\n",
            " [-2.12142951]\n",
            " [-3.83294724]\n",
            " [-0.92249109]\n",
            " [-2.28832551]\n",
            " [ 0.50946617]\n",
            " [ 0.89909048]]\n"
          ]
        }
      ],
      "source": [
        "# (i) find the numerical labels predicted by the model (w,b) for the points in X\n",
        "#     your code should be a single numpy line\n",
        "#     hint: we wrote this equation for a single point x in class\n",
        "#           try to generalize it by expressing everying in terms of matrices\n",
        "\n",
        "# your code goes here\n",
        "\n",
        "# instead of matmul, np.dot can also be used\n",
        "\n",
        "y_predicted = np.matmul(X, w.T) + b\n",
        "print(y_predicted)"
      ]
    },
    {
      "cell_type": "code",
      "execution_count": null,
      "metadata": {
        "scrolled": true,
        "id": "fQfSNVT9TPFo",
        "outputId": "e862c12c-6c7c-4e7c-f9e9-ef7ad701efb7"
      },
      "outputs": [
        {
          "name": "stdout",
          "output_type": "stream",
          "text": [
            "[[ 0.27204388]\n",
            " [-5.71303655]\n",
            " [-3.80154117]\n",
            " [-0.46238381]\n",
            " [-2.12142951]\n",
            " [-3.83294724]\n",
            " [-0.92249109]\n",
            " [-2.28832551]\n",
            " [ 0.50946617]\n",
            " [ 0.89909048]]\n"
          ]
        }
      ],
      "source": [
        "# Alternate way to calculate using numpy.\n",
        "# In this expression we add ones as first element in X and b as first element to the vector w\n",
        "# to make multiplication easier with b\n",
        "y_predicted = np.dot(np.vstack((np.ones((X.shape[0], )), X.T)).T, np.column_stack((np.asarray([b]),w)).T)\n",
        "print(y_predicted)"
      ]
    },
    {
      "cell_type": "code",
      "execution_count": null,
      "metadata": {
        "id": "YwVDmS_mM-iU"
      },
      "outputs": [],
      "source": [
        "# (ii) find the updated weights after one application of gradient descent with lr = 0.1\n",
        "#      your code should be a single numpy line"
      ]
    },
    {
      "cell_type": "markdown",
      "metadata": {
        "id": "gAgHzbgHTPFp"
      },
      "source": [
        "Considering the below rule for weight updates\n",
        "\n",
        "$$\n",
        "     w_i = w_i - \\rho \\sum_{j=1}^n  \\left( \\hat{y}_j - y_j\\right ) X_{j,i}\n",
        "$$"
      ]
    },
    {
      "cell_type": "code",
      "execution_count": null,
      "metadata": {
        "id": "CIf0uLDCO-80",
        "outputId": "a2c8a6fe-a4bb-402a-cf85-e966f6368fbc"
      },
      "outputs": [
        {
          "name": "stdout",
          "output_type": "stream",
          "text": [
            "Weights after one application of gradient descent : [[ 0.58786617 -1.61552026 -1.20987173]]\n"
          ]
        }
      ],
      "source": [
        "# Calculate weights as per the presudocode for the gradient descent given in lecuture and per the update rule mentioned above\n",
        "# instead of matmul, np.dot can also be used\n",
        "\n",
        "wnew = w - np.matmul((y_predicted-y).T,X)* 0.1\n",
        "print(\"Weights after one application of gradient descent : {}\".format(wnew))"
      ]
    },
    {
      "cell_type": "markdown",
      "metadata": {
        "id": "fIDBE8kcTPFq"
      },
      "source": [
        "Considering the below rule for b\n",
        "\n",
        "$$\n",
        "     b = b - \\rho \\sum_{j=1}^n  \\left( \\hat{y}_j - y_j\\right )\n",
        "$$\n"
      ]
    },
    {
      "cell_type": "code",
      "execution_count": null,
      "metadata": {
        "id": "aom27eqwTPFq",
        "outputId": "6912aa08-95c3-4ec6-84fc-c5075b940a1c"
      },
      "outputs": [
        {
          "name": "stdout",
          "output_type": "stream",
          "text": [
            "b value after one application of gradient descent : [0.90543013]\n"
          ]
        }
      ],
      "source": [
        "bnew = b - np.matmul((y_predicted-y).T,np.ones((X.shape[0], ))) * 0.1\n",
        "print(\"b value after one application of gradient descent : {}\".format(bnew))"
      ]
    },
    {
      "cell_type": "code",
      "execution_count": null,
      "metadata": {
        "id": "mJJp2OGPnKpX"
      },
      "outputs": [],
      "source": [
        "# Grader's area\n",
        "\n",
        "maxScore = maxScore +8\n",
        "M[6,1] = 4\n",
        "M[6,2] = 4\n"
      ]
    },
    {
      "cell_type": "markdown",
      "metadata": {
        "id": "66XBKQj-n_hZ"
      },
      "source": [
        "-----------------------\n",
        "-----------------------\n",
        "-----------------------\n"
      ]
    },
    {
      "cell_type": "code",
      "execution_count": null,
      "metadata": {
        "id": "IVkneTzYCAxs"
      },
      "outputs": [],
      "source": [
        "#Grader's area\n",
        "\n",
        "rawScore = np.sum(M)\n",
        "score = rawScore*100/maxScore"
      ]
    },
    {
      "cell_type": "code",
      "source": [
        "score"
      ],
      "metadata": {
        "colab": {
          "base_uri": "https://localhost:8080/"
        },
        "id": "cVf9TCijYcRL",
        "outputId": "0c4e8d67-ae25-4825-fc60-96771d37dc1e"
      },
      "execution_count": null,
      "outputs": [
        {
          "output_type": "execute_result",
          "data": {
            "text/plain": [
              "96.42857142857143"
            ]
          },
          "metadata": {},
          "execution_count": 9
        }
      ]
    }
  ],
  "metadata": {
    "colab": {
      "provenance": []
    },
    "kernelspec": {
      "display_name": "Python 3",
      "language": "python",
      "name": "python3"
    },
    "language_info": {
      "codemirror_mode": {
        "name": "ipython",
        "version": 3
      },
      "file_extension": ".py",
      "mimetype": "text/x-python",
      "name": "python",
      "nbconvert_exporter": "python",
      "pygments_lexer": "ipython3",
      "version": "3.8.8"
    }
  },
  "nbformat": 4,
  "nbformat_minor": 0
}