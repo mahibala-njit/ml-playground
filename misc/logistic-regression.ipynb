{
  "cells": [
    {
      "cell_type": "markdown",
      "metadata": {
        "id": "Tajfsk_7JY3E"
      },
      "source": [
        "**Note to grader:** Each question consists of parts, e.g. Q1(i), Q1(ii), etc. Each part must be graded  on a 0-4 scale, following the standard NJIT convention (A:4, B+: 3.5, B:3, C+: 2.5, C: 2, D:1, F:0).\n",
        "The total score must be re-scaled to 100 -- that should apply to all future assignments so that Canvas assigns the same weight on all assignments.\n",
        "\n"
      ]
    },
    {
      "cell_type": "code",
      "execution_count": null,
      "metadata": {
        "id": "zPnHTf9MfT5X"
      },
      "outputs": [],
      "source": [
        "# Grader's area\n",
        "import numpy as np\n",
        "M = np.zeros([10,10])\n",
        "maxScore = 0\n"
      ]
    },
    {
      "cell_type": "markdown",
      "metadata": {
        "id": "SArgW_Vq-uTh"
      },
      "source": [
        "# **Assignment 3**\n",
        "\n",
        "The goal in this assignment to work a little more with Python, do some practice with logistic regression, reflect on how it can fail to work on linearly separable data. You will also work with a support vector classifier. All that, still on \"toy\" data sets.\n",
        "\n",
        "We will work with the first 'real' data sets in the next assignment."
      ]
    },
    {
      "cell_type": "markdown",
      "metadata": {
        "id": "IlFM4hig-uTj"
      },
      "source": [
        "## **Preparation Steps**"
      ]
    },
    {
      "cell_type": "code",
      "execution_count": null,
      "metadata": {
        "id": "E3alYkjM-uTk"
      },
      "outputs": [],
      "source": [
        "# Import all necessary python packages\n",
        "import numpy as np\n",
        "import os\n",
        "import pandas as pd\n",
        "import matplotlib.pyplot as plt\n",
        "from matplotlib.colors import ListedColormap\n",
        "from sklearn.linear_model import LogisticRegression"
      ]
    },
    {
      "cell_type": "code",
      "execution_count": null,
      "metadata": {
        "colab": {
          "base_uri": "https://localhost:8080/"
        },
        "id": "eTVa-fum-uTt",
        "outputId": "ac672805-93aa-4f90-8052-ea57a66861c3"
      },
      "outputs": [
        {
          "name": "stdout",
          "output_type": "stream",
          "text": [
            "URL: https://archive.ics.uci.edu/ml/machine-learning-databases/iris/iris.data\n"
          ]
        }
      ],
      "source": [
        "# ### Reading-in the Iris data\n",
        "\n",
        "s = os.path.join('https://archive.ics.uci.edu', 'ml',\n",
        "                 'machine-learning-databases', 'iris','iris.data')\n",
        "s = s.replace(\"\\\\\",\"/\");\n",
        "print('URL:', s)\n",
        "df = pd.read_csv(s,header=None,encoding='utf-8')\n"
      ]
    },
    {
      "cell_type": "code",
      "execution_count": null,
      "metadata": {
        "colab": {
          "base_uri": "https://localhost:8080/",
          "height": 279
        },
        "id": "cqzyfFCC-uTz",
        "outputId": "1d89f90c-99a4-4755-9418-27bba70817a1"
      },
      "outputs": [
        {
          "data": {
            "image/png": "[encoded data removed]",
            "text/plain": [
              "<Figure size 432x288 with 1 Axes>"
            ]
          },
          "metadata": {
            "needs_background": "light"
          },
          "output_type": "display_data"
        }
      ],
      "source": [
        "# select setosa and versicolor for binary classification\n",
        "y = df.iloc[0:100, 4].values\n",
        "y = np.where(y == 'Iris-setosa', 1, 0)\n",
        "\n",
        "# extract sepal length and petal length\n",
        "X = df.iloc[:100, [0, 2]].values\n",
        "\n",
        "# plot data\n",
        "plt.scatter(X[:50, 0], X[:50, 1],\n",
        "            color='red', marker='o', label='setosa')\n",
        "plt.scatter(X[50:100, 0], X[50:100, 1],\n",
        "            color='blue', marker='x', label='versicolor')\n",
        "\n",
        "plt.xlabel('sepal length [cm]')\n",
        "plt.ylabel('petal length [cm]')\n",
        "plt.legend(loc='upper left')\n",
        "\n",
        "\n",
        "# plt.savefig('images/02_06.png', dpi=300)\n",
        "plt.show()"
      ]
    },
    {
      "cell_type": "code",
      "execution_count": null,
      "metadata": {
        "id": "xYEgTzp0s5BN"
      },
      "outputs": [],
      "source": [
        "# function for visualizing decision regions\n",
        "\n",
        "from matplotlib.colors import ListedColormap\n",
        "\n",
        "\n",
        "def plot_decision_regions(X, y, classifier, resolution=0.02):\n",
        "\n",
        "    # setup marker generator and color map\n",
        "    markers = ('s', 'x', 'o', '^', 'v')\n",
        "    colors = ('red', 'blue', 'lightgreen', 'gray', 'cyan')\n",
        "    cmap = ListedColormap(colors[:len(np.unique(y))])\n",
        "\n",
        "    # plot the decision surface\n",
        "    x1_min, x1_max = X[:, 0].min() - 1, X[:, 0].max() + 1\n",
        "    x2_min, x2_max = X[:, 1].min() - 1, X[:, 1].max() + 1\n",
        "    xx1, xx2 = np.meshgrid(np.arange(x1_min, x1_max, resolution),\n",
        "                           np.arange(x2_min, x2_max, resolution))\n",
        "    Z = classifier.predict(np.array([xx1.ravel(), xx2.ravel()]).T)\n",
        "    Z = Z.reshape(xx1.shape)\n",
        "    plt.contourf(xx1, xx2, Z, alpha=0.3, cmap=cmap)\n",
        "    plt.xlim(xx1.min(), xx1.max())\n",
        "    plt.ylim(xx2.min(), xx2.max())\n",
        "\n",
        "    # plot class examples\n",
        "    for idx, cl in enumerate(np.unique(y)):\n",
        "        plt.scatter(x=X[y == cl, 0],\n",
        "                    y=X[y == cl, 1],\n",
        "                    alpha=0.8,\n",
        "                    c=colors[idx],\n",
        "                    marker=markers[idx],\n",
        "                    label=cl,\n",
        "                    edgecolor='black')"
      ]
    },
    {
      "cell_type": "markdown",
      "metadata": {
        "id": "phGY3AEGn3dz"
      },
      "source": [
        "-----------------------\n",
        "-----------------------\n",
        "-----------------------\n"
      ]
    },
    {
      "cell_type": "markdown",
      "metadata": {
        "id": "Pe9kKR3J-uUA"
      },
      "source": [
        "## <font color = 'blue'> **Question 1. Practice with logistic regression** </font>\n",
        "\n",
        "Let's first load the textbook's implementation of logistic regression with gradient descent."
      ]
    },
    {
      "cell_type": "code",
      "execution_count": null,
      "metadata": {
        "id": "HSRTXCwz-uUA"
      },
      "outputs": [],
      "source": [
        "class LogisticRegressionGD(object):\n",
        "    \"\"\"Logistic Regression Classifier using gradient descent.\n",
        "\n",
        "    Parameters\n",
        "    ------------\n",
        "    eta : float\n",
        "      Learning rate (between 0.0 and 1.0)\n",
        "    n_iter : int\n",
        "      Passes over the training dataset.\n",
        "    random_state : int\n",
        "      Random number generator seed for random weight\n",
        "      initialization.\n",
        "\n",
        "\n",
        "    Attributes\n",
        "    -----------\n",
        "    w_ : 1d-array\n",
        "      Weights after fitting.\n",
        "    loss_ : list\n",
        "      Logistic loss function value in each epoch.\n",
        "\n",
        "    \"\"\"\n",
        "    def __init__(self, eta=0.05, n_iter=100, random_state=1):\n",
        "        self.eta = eta\n",
        "        self.n_iter = n_iter\n",
        "        self.random_state = random_state\n",
        "\n",
        "    def fit(self, X, y):\n",
        "        \"\"\" Fit training data.\n",
        "\n",
        "        Parameters\n",
        "        ----------\n",
        "        X : {array-like}, shape = [n_examples, n_features]\n",
        "          Training vectors, where n_examples is the number of examples and\n",
        "          n_features is the number of features.\n",
        "        y : array-like, shape = [n_examples]\n",
        "          Target values.\n",
        "\n",
        "        Returns\n",
        "        -------\n",
        "        self : object\n",
        "\n",
        "        \"\"\"\n",
        "        rgen = np.random.RandomState(self.random_state)\n",
        "        self.w_ = rgen.normal(loc=0.0, scale=0.01, size=1 + X.shape[1])\n",
        "        self.loss_ = []\n",
        "\n",
        "        for i in range(self.n_iter):\n",
        "            net_input = self.net_input(X)\n",
        "            output = self.activation(net_input)\n",
        "            errors = (y - output)\n",
        "            if errors.sum() == 0:\n",
        "                break;\n",
        "            else:\n",
        "                self.w_[1:] += self.eta * X.T.dot(errors)\n",
        "                self.w_[0] += self.eta * errors.sum()\n",
        "\n",
        "                # compute the logistic `loss`\n",
        "                loss = -y.dot(np.log(output)) - ((1 - y).dot(np.log(1 - output)))\n",
        "                self.loss_.append(loss)\n",
        "        return self\n",
        "\n",
        "    def net_input(self, X):\n",
        "        \"\"\"Calculate net input\"\"\"\n",
        "        return np.dot(X, self.w_[1:]) + self.w_[0]\n",
        "\n",
        "    def activation(self, z):\n",
        "        \"\"\"Compute logistic sigmoid activation\"\"\"\n",
        "        return 1. / (1. + np.exp(-np.clip(z, -250, 250)))\n",
        "\n",
        "    def predict(self, X):\n",
        "        \"\"\"Return class label after unit step\"\"\"\n",
        "        #return np.where(self.net_input(X) >= 0.0, 1, 0)\n",
        "        # equivalent to:\n",
        "        return np.where(self.activation(self.net_input(X)) >= 0.5, 1, 0)"
      ]
    },
    {
      "cell_type": "markdown",
      "metadata": {
        "id": "dMYBgs4E-uUF"
      },
      "source": [
        "Below you can see the first 3 data points of the data set, all labeled as 'setosa'. Let's set the numerical value for 'setosa' to 1. (i.e. y = 1)."
      ]
    },
    {
      "cell_type": "markdown",
      "metadata": {
        "id": "sPbGfqmf-uUK"
      },
      "source": [
        "\n",
        "Suppose the initial weights of the logistic neuron are w0=0.1, w1=-0.2, w2=0.1\n",
        "\n",
        "<font color = 'blue'> **Q1-1**.  </font> Write the weights after processing data points 0,1,2, with learning rate $\\eta=0.1$ and show your calculations. This is similar to the previous assignment, only done now for the logistic neuron. You can also use *LogisticRegressionGD* to check your calculations. <br>\n",
        "\n",
        "<font color = 'blue'> **Q1-2**.  </font> Given our data $X$, let $X_{d=2}$ and $X_{d=3}$ be the quadratic and cubic features. Using code from the notebook on polynomial regression, generate $X_{d=2}$ and $X_{d=3}$\n",
        "\n",
        "<font color = 'blue'> **Q1-3**.  </font> Using *LogisticRegressionGD* fit $X$, $X_{d=2}$ and $X_{d=3}$. Here you should set $\\eta = 0.1$ and $n_{iter}>1000$. For each of these three cases, report the loss function value for the model computed by *LogisticRegressionGD*.\n",
        "Here it is expected that the loss value decreases as $d$ increases.\n"
      ]
    },
    {
      "cell_type": "markdown",
      "metadata": {
        "id": "A_yXmkQuWx9B"
      },
      "source": [
        "### <font color = 'blue'> **Q1-1** - Approach 1 -Process weight update after each data point </font>"
      ]
    },
    {
      "cell_type": "code",
      "execution_count": null,
      "metadata": {
        "id": "reSXQbJiWx9C",
        "outputId": "7419ad2a-50c5-4735-ed32-1abd65ecc7c6"
      },
      "outputs": [
        {
          "data": {
            "text/plain": [
              "array([1., 1., 1.])"
            ]
          },
          "execution_count": 7,
          "metadata": {},
          "output_type": "execute_result"
        }
      ],
      "source": [
        "# List out what we know\n",
        "eta = 0.1 # learning rate\n",
        "w = np.array([0.1,-0.2,0.1]) # w0=0.1, w1=-0.2, w2=0.1\n",
        "y_label = np.ones(3) # force y label to be all 1 as the instruction in the addendum\n",
        "y_label"
      ]
    },
    {
      "cell_type": "code",
      "execution_count": null,
      "metadata": {
        "id": "ha0o1RDBWx9C",
        "outputId": "5a05ef8d-55e2-4c2c-9b00-24c6149b9001"
      },
      "outputs": [
        {
          "name": "stdout",
          "output_type": "stream",
          "text": [
            "Netinput = -0.78\n",
            "Activation = 0.31431988606174616\n",
            "errors = 0.6856801139382538\n",
            "Weights for datapoint [5.1 1.4] is = [0.16856801 0.14969686 0.19599522]\n"
          ]
        }
      ],
      "source": [
        "# obtain errors for the first data point\n",
        "dp = 0\n",
        "x_1 = X[dp][0]\n",
        "x_2 = X[dp][1]\n",
        "\n",
        "# calculate net input\n",
        "y_net_input = w[0] + w[1]*x_1 + w[2]*x_2\n",
        "print(\"Netinput = {}\".format(y_net_input))\n",
        "\n",
        "# calculate activation\n",
        "z = 1/(1 + np.exp(-y_net_input))\n",
        "print(\"Activation = {}\".format(z))\n",
        "\n",
        "# Calculate errors\n",
        "errors = y_label[dp] - z\n",
        "print(\"errors = {}\".format(errors))\n",
        "\n",
        "#Update the weight for the first data point\n",
        "update = eta * errors\n",
        "w[0] += update\n",
        "w[1] += update * x_1\n",
        "w[2] += update * x_2\n",
        "print(\"Weights for datapoint {} is = {}\".format(X[dp],w))"
      ]
    },
    {
      "cell_type": "code",
      "execution_count": null,
      "metadata": {
        "id": "QVY9L7kbWx9D",
        "outputId": "86627b57-7347-40f2-8eaf-8f6ef363264c"
      },
      "outputs": [
        {
          "name": "stdout",
          "output_type": "stream",
          "text": [
            "Netinput = 1.1764759184574194\n",
            "Activation = 0.7643135730004393\n",
            "errors = 0.23568642699956066\n",
            "Weights for datapoint [4.9 1.4] is = [0.19213665 0.26518321 0.22899132]\n"
          ]
        }
      ],
      "source": [
        "# obtain errors for the second data point\n",
        "dp = 1\n",
        "x_1 = X[dp][0]\n",
        "x_2 = X[dp][1]\n",
        "\n",
        "# calculate net input\n",
        "y_net_input = w[0] + w[1]*x_1 + w[2]*x_2\n",
        "print(\"Netinput = {}\".format(y_net_input))\n",
        "\n",
        "# calculate activation\n",
        "z = 1/(1 + np.exp(-y_net_input))\n",
        "print(\"Activation = {}\".format(z))\n",
        "\n",
        "# Calculate errors\n",
        "errors = y_label[dp] - z\n",
        "print(\"errors = {}\".format(errors))\n",
        "\n",
        "#Update the weight for the second data point\n",
        "update = eta * errors\n",
        "w[0] += update\n",
        "w[1] += update * x_1\n",
        "w[2] += update * x_2\n",
        "print(\"Weights for datapoint {} is = {}\".format(X[dp],w))"
      ]
    },
    {
      "cell_type": "code",
      "execution_count": null,
      "metadata": {
        "id": "ugrCKwpiWx9D",
        "outputId": "03aa0416-3516-465a-bb82-4fa962f03f04"
      },
      "outputs": [
        {
          "name": "stdout",
          "output_type": "stream",
          "text": [
            "Netinput = 1.7361864390344461\n",
            "Activation = 0.8502020242725015\n",
            "errors = 0.14979797572749853\n",
            "Weights for datapoint [4.7 1.3] is = [0.20711645 0.33558826 0.24846505]\n"
          ]
        }
      ],
      "source": [
        "# obtain y hat for the third data point\n",
        "dp = 2\n",
        "x_1 = X[dp][0]\n",
        "x_2 = X[dp][1]\n",
        "\n",
        "# calculate net input\n",
        "y_net_input = w[0] + w[1]*x_1 + w[2]*x_2\n",
        "print(\"Netinput = {}\".format(y_net_input))\n",
        "\n",
        "# calculate activation\n",
        "z = 1/(1 + np.exp(-y_net_input))\n",
        "print(\"Activation = {}\".format(z))\n",
        "\n",
        "# Calculate errors\n",
        "errors = y_label[dp] - z\n",
        "print(\"errors = {}\".format(errors))\n",
        "\n",
        "#Update the weight for the second data point\n",
        "update = eta * errors\n",
        "w[0] += update\n",
        "w[1] += update * x_1\n",
        "w[2] += update * x_2\n",
        "print(\"Weights for datapoint {} is = {}\".format(X[dp],w))"
      ]
    },
    {
      "cell_type": "code",
      "execution_count": null,
      "metadata": {
        "id": "TulaG5L5Wx9E"
      },
      "outputs": [],
      "source": [
        "#Q1-1\n",
        "\n",
        "# To Cross check the weights with LogisticRegressionGD\n",
        "# Change to the code\n",
        "#----Weights to be passed in as a parameter\n",
        "#----Print the required results to make the output verbose\n",
        "\n",
        "#-----------Tweak the code of the logisticregression code\n",
        "\n",
        "class LogisticRegressionGDCheck(object):\n",
        "    \"\"\"Logistic Regression Classifier using gradient descent.\n",
        "\n",
        "    Parameters\n",
        "    ------------\n",
        "    eta : float\n",
        "      Learning rate (between 0.0 and 1.0)\n",
        "    n_iter : int\n",
        "      Passes over the training dataset.\n",
        "    random_state : int\n",
        "      Random number generator seed for random weight\n",
        "      initialization.\n",
        "\n",
        "\n",
        "    Attributes\n",
        "    -----------\n",
        "    w_ : 1d-array\n",
        "      Weights after fitting.\n",
        "    loss_ : list\n",
        "      Logistic loss function value in each epoch.\n",
        "\n",
        "    \"\"\"\n",
        "    #***************Set weight as an input parameter for the logisticregression code\n",
        "    def __init__(self, eta=0.05, n_iter=100, random_state=1,w_=np.asarray([])):\n",
        "        self.eta = eta\n",
        "        self.n_iter = n_iter\n",
        "        self.random_state = random_state\n",
        "        #----- Added this to test the manual calculation ---#\n",
        "        self.w_ = w_\n",
        "\n",
        "    def fit(self, X, y):\n",
        "        \"\"\" Fit training data.\n",
        "\n",
        "        Parameters\n",
        "        ----------\n",
        "        X : {array-like}, shape = [n_examples, n_features]\n",
        "          Training vectors, where n_examples is the number of examples and\n",
        "          n_features is the number of features.\n",
        "        y : array-like, shape = [n_examples]\n",
        "          Target values.\n",
        "\n",
        "        Returns\n",
        "        -------\n",
        "        self : object\n",
        "\n",
        "        \"\"\"\n",
        "        rgen = np.random.RandomState(self.random_state)\n",
        "        #self.w_ = rgen.normal(loc=0.0, scale=0.01, size=1 + X.shape[1])\n",
        "        #self.w_ = np.array([0.1,-0.2,0.1])\n",
        "        self.loss_ = []\n",
        "\n",
        "        for i in range(self.n_iter):\n",
        "            net_input = self.net_input(X)\n",
        "            output = self.activation(net_input)\n",
        "            errors = (y - output)\n",
        "            self.w_[1:] += self.eta * X.T.dot(errors)\n",
        "            self.w_[0] += self.eta * errors.sum()\n",
        "            print(\"Iteration {}: Net input = {}\".format(i+1,net_input))\n",
        "            print(\"Iteration {}: output = {}\".format(i+1,output))\n",
        "            print(\"Iteration {}: errors = {}\".format(i+1,errors))\n",
        "            print(\"Iteration {}: weights = {}\".format(i+1,self.w_))\n",
        "\n",
        "            # compute the logistic `loss`\n",
        "            loss = -y.dot(np.log(output)) - ((1 - y).dot(np.log(1 - output)))\n",
        "            self.loss_.append(loss)\n",
        "        return self\n",
        "\n",
        "    def net_input(self, X):\n",
        "        \"\"\"Calculate net input\"\"\"\n",
        "        return np.dot(X, self.w_[1:]) + self.w_[0]\n",
        "\n",
        "    def activation(self, z):\n",
        "        \"\"\"Compute logistic sigmoid activation\"\"\"\n",
        "        return 1. / (1. + np.exp(-np.clip(z, -250, 250)))\n",
        "\n",
        "    def predict(self, X):\n",
        "        \"\"\"Return class label after unit step\"\"\"\n",
        "        #return np.where(self.net_input(X) >= 0.0, 1, 0)\n",
        "        # equivalent to:\n",
        "        return np.where(self.activation(self.net_input(X)) >= 0.5, 1, 0)\n",
        "\n",
        "#-----------Tweak the code of the logisticregression code\n",
        "\n",
        "\n"
      ]
    },
    {
      "cell_type": "code",
      "execution_count": null,
      "metadata": {
        "id": "hl1LES8yWx9E",
        "outputId": "bd7365f7-35d8-478d-9d6a-286ce4a086ae"
      },
      "outputs": [
        {
          "name": "stdout",
          "output_type": "stream",
          "text": [
            "Iteration 1: Net input = [-0.78]\n",
            "Iteration 1: output = [0.31431989]\n",
            "Iteration 1: errors = [0.68568011]\n",
            "Iteration 1: weights = [0.16856801 0.14969686 0.19599522]\n"
          ]
        },
        {
          "data": {
            "text/plain": [
              "<__main__.LogisticRegressionGDCheck at 0x13c819cc910>"
            ]
          },
          "execution_count": 12,
          "metadata": {},
          "output_type": "execute_result"
        }
      ],
      "source": [
        "# Passing first data point to the given logistic regression class\n",
        "lr1 = LogisticRegressionGDCheck(eta=0.1,n_iter=1,w_=np.array([0.1,-0.2,0.1]))\n",
        "lr1.fit(X[0:1],y_label[0:1])"
      ]
    },
    {
      "cell_type": "code",
      "execution_count": null,
      "metadata": {
        "id": "HREk8mFGWx9F",
        "outputId": "dc167532-1e6f-4d32-9549-71d59f6ce26f"
      },
      "outputs": [
        {
          "name": "stdout",
          "output_type": "stream",
          "text": [
            "Iteration 1: Net input = [1.17647593]\n",
            "Iteration 1: output = [0.76431358]\n",
            "Iteration 1: errors = [0.23568642]\n",
            "Iteration 1: weights = [0.19213665 0.26518321 0.22899132]\n"
          ]
        },
        {
          "data": {
            "text/plain": [
              "<__main__.LogisticRegressionGDCheck at 0x13c87475850>"
            ]
          },
          "execution_count": 13,
          "metadata": {},
          "output_type": "execute_result"
        }
      ],
      "source": [
        "# Passing second data point to the given logistic regression class\n",
        "lr1 = LogisticRegressionGDCheck(eta=0.1,n_iter=1,w_=np.array([0.16856801, 0.14969686, 0.19599522]))\n",
        "lr1.fit(X[1:2],y_label[1:2])"
      ]
    },
    {
      "cell_type": "code",
      "execution_count": null,
      "metadata": {
        "id": "DCkbXZ4qWx9F",
        "outputId": "f44e2537-31da-4a87-be83-d1c82a5a6fb4"
      },
      "outputs": [
        {
          "name": "stdout",
          "output_type": "stream",
          "text": [
            "Iteration 1: Net input = [1.73618645]\n",
            "Iteration 1: output = [0.85020203]\n",
            "Iteration 1: errors = [0.14979797]\n",
            "Iteration 1: weights = [0.20711645 0.33558826 0.24846506]\n"
          ]
        },
        {
          "data": {
            "text/plain": [
              "<__main__.LogisticRegressionGDCheck at 0x13c87475eb0>"
            ]
          },
          "execution_count": 14,
          "metadata": {},
          "output_type": "execute_result"
        }
      ],
      "source": [
        "# Passing third data point to the given logistic regression class\n",
        "lr1 = LogisticRegressionGDCheck(eta=0.1,n_iter=1,w_=np.array([0.19213665, 0.26518321, 0.22899132]))\n",
        "lr1.fit(X[2:3],y_label[2:3])"
      ]
    },
    {
      "cell_type": "markdown",
      "metadata": {
        "id": "p3yb7nLBWx9G"
      },
      "source": [
        "#### Weights after processing first datapoint   = [0.16856801 0.14969686 0.19599522]\n",
        "#### Weights after processing second datapoint   = [0.19213665 0.26518321 0.22899132]\n",
        "#### Weights after processing third datapoint   = [0.20711645 0.33558826 0.24846506]"
      ]
    },
    {
      "cell_type": "markdown",
      "metadata": {
        "id": "XPvFJTdKWx9G"
      },
      "source": [
        "### <font color = 'blue'> **Q1-1** - Approach 2 -Process weight update for all 3 data points at once </font>"
      ]
    },
    {
      "cell_type": "code",
      "execution_count": null,
      "metadata": {
        "scrolled": true,
        "id": "7wOQfmZUWx9H",
        "outputId": "718e9c8c-9910-46a7-e2ce-10bc4250d26f"
      },
      "outputs": [
        {
          "name": "stdout",
          "output_type": "stream",
          "text": [
            "Initial Weights = [ 0.1 -0.2  0.1]\n",
            "Netinput = [-0.78 -0.74 -0.71]\n",
            "Activation = [0.31431989 0.32300414 0.32959884]\n",
            "errors = [0.68568011 0.67699586 0.67040116]\n",
            "Weights after processing datapoints [[5.1 1.4]\n",
            " [4.9 1.4]\n",
            " [4.7 1.3]] is = [0.30330771 0.79651337 0.37792679]\n"
          ]
        }
      ],
      "source": [
        "# Another Approach - Similar to the original LogisticRegressionGD class\n",
        "#Processing All 3 datapoints at once\n",
        "\n",
        "# Create a weight vector for the given initial weights\n",
        "w = np.array([0.1,-0.2,0.1])\n",
        "print(\"Initial Weights = {}\".format(w))\n",
        "\n",
        "# Create a vector with all 3 datapoints x[0:3] from Iris dataset\n",
        "x1 = X[0:3]\n",
        "y1 = y_label # setosa label is 1\n",
        "\n",
        "# Calculate net input for the 3 datapoints\n",
        "netinput = np.dot(x1, w[1:]) + w[0]\n",
        "print(\"Netinput = {}\".format(netinput))\n",
        "\n",
        "# Activation function\n",
        "z = 1/(1 + np.exp(-netinput))\n",
        "print(\"Activation = {}\".format(z))\n",
        "\n",
        "# Calculate errors\n",
        "errors = y1 - z\n",
        "print(\"errors = {}\".format(errors))\n",
        "\n",
        "# Calculate weights\n",
        "w[0] +=  0.1 * errors.sum()\n",
        "w[1:] += 0.1 * x1.T.dot(errors)\n",
        "print(\"Weights after processing datapoints {} is = {}\".format(x1,w))"
      ]
    },
    {
      "cell_type": "code",
      "execution_count": null,
      "metadata": {
        "id": "Z2Y7ACzsWx9I",
        "outputId": "24c92a2b-57b9-48db-de2d-43df5767ddd7"
      },
      "outputs": [
        {
          "name": "stdout",
          "output_type": "stream",
          "text": [
            "Iteration 1: Net input = [-0.78 -0.74 -0.71]\n",
            "Iteration 1: output = [0.31431989 0.32300414 0.32959884]\n",
            "Iteration 1: errors = [0.68568011 0.67699586 0.67040116]\n",
            "Iteration 1: weights = [0.30330771 0.79651337 0.37792679]\n"
          ]
        },
        {
          "data": {
            "text/plain": [
              "<__main__.LogisticRegressionGDCheck at 0x13c8749a6a0>"
            ]
          },
          "execution_count": 16,
          "metadata": {},
          "output_type": "execute_result"
        }
      ],
      "source": [
        "# Cross check with the tweaked LogisticRegression Class\n",
        "lr_crosscheck = LogisticRegressionGDCheck(eta=0.1,n_iter=1,w_=np.array([0.1,-0.2,0.1]))\n",
        "lr_crosscheck.fit(x1,y1)"
      ]
    },
    {
      "cell_type": "markdown",
      "metadata": {
        "id": "KEpC71XqWx9I"
      },
      "source": [
        "#### Weights after processing all 3 datapoints at once  = [0.30330771 0.79651337 0.37792679]"
      ]
    },
    {
      "cell_type": "markdown",
      "metadata": {
        "id": "emZb1xBuWx9I"
      },
      "source": [
        "### <font color = 'blue'> **Q1-2** - Generate Quadratic and Cubic features dataset </font>"
      ]
    },
    {
      "cell_type": "code",
      "execution_count": null,
      "metadata": {
        "id": "kO7l2MpcWx9J",
        "outputId": "edd02c92-25f9-469a-dc62-1ba95563aa71"
      },
      "outputs": [
        {
          "data": {
            "image/png": "[encoded data removed]",
            "text/plain": [
              "<Figure size 432x288 with 1 Axes>"
            ]
          },
          "metadata": {
            "needs_background": "light"
          },
          "output_type": "display_data"
        }
      ],
      "source": [
        "#As per Professor's suggestions, flipping the values for few to make the linear classification\n",
        "#have some loss instead of showing Nan\n",
        "X[4] = [6. , 3]\n",
        "X[5] = [5. , 3]\n",
        "# plot data\n",
        "plt.scatter(X[:50, 0], X[:50, 1],\n",
        "            color='red', marker='o', label='setosa')\n",
        "plt.scatter(X[50:100, 0], X[50:100, 1],\n",
        "            color='blue', marker='x', label='versicolor')\n",
        "\n",
        "plt.xlabel('sepal length [cm]')\n",
        "plt.ylabel('petal length [cm]')\n",
        "plt.legend(loc='upper left')\n",
        "\n",
        "\n",
        "# plt.savefig('images/02_06.png', dpi=300)\n",
        "plt.show()"
      ]
    },
    {
      "cell_type": "code",
      "execution_count": null,
      "metadata": {
        "id": "ilRbCqWRWx9K",
        "outputId": "01857367-abe3-4168-c121-ecfe6ba189de"
      },
      "outputs": [
        {
          "name": "stdout",
          "output_type": "stream",
          "text": [
            "(100, 2)\n",
            "(100, 6)\n",
            "(100, 10)\n"
          ]
        }
      ],
      "source": [
        "#Q1-2:\n",
        "\n",
        "# Give the data X\n",
        "from sklearn.preprocessing import PolynomialFeatures\n",
        "\n",
        "# Generate Quadratic features\n",
        "quadratic = PolynomialFeatures(degree=2)\n",
        "X_d2 = quadratic.fit_transform(X)\n",
        "\n",
        "# Generate Cubic features\n",
        "cubic = PolynomialFeatures(degree=3)\n",
        "X_d3 = cubic.fit_transform(X)\n",
        "\n",
        "print(X.shape)\n",
        "print(X_d2.shape)\n",
        "print(X_d3.shape)"
      ]
    },
    {
      "cell_type": "code",
      "execution_count": null,
      "metadata": {
        "id": "yY1AGTHQWx9L",
        "outputId": "a9d02914-3245-4700-a359-4e6473919c4a"
      },
      "outputs": [
        {
          "data": {
            "text/plain": [
              "array([[ 1.  ,  5.1 ,  1.4 , 26.01,  7.14,  1.96],\n",
              "       [ 1.  ,  4.9 ,  1.4 , 24.01,  6.86,  1.96],\n",
              "       [ 1.  ,  4.7 ,  1.3 , 22.09,  6.11,  1.69]])"
            ]
          },
          "execution_count": 19,
          "metadata": {},
          "output_type": "execute_result"
        }
      ],
      "source": [
        "#Q1-2: spot check data for quadratic features\n",
        "X_d2[0:3]"
      ]
    },
    {
      "cell_type": "code",
      "execution_count": null,
      "metadata": {
        "scrolled": true,
        "id": "FFkTeMZaWx9L",
        "outputId": "4a03210c-e868-408f-8c85-fb8661a3ca1d"
      },
      "outputs": [
        {
          "data": {
            "text/plain": [
              "array([[  1.   ,   5.1  ,   1.4  ,  26.01 ,   7.14 ,   1.96 , 132.651,\n",
              "         36.414,   9.996,   2.744],\n",
              "       [  1.   ,   4.9  ,   1.4  ,  24.01 ,   6.86 ,   1.96 , 117.649,\n",
              "         33.614,   9.604,   2.744],\n",
              "       [  1.   ,   4.7  ,   1.3  ,  22.09 ,   6.11 ,   1.69 , 103.823,\n",
              "         28.717,   7.943,   2.197]])"
            ]
          },
          "execution_count": 20,
          "metadata": {},
          "output_type": "execute_result"
        }
      ],
      "source": [
        "#Q1-2: spot check data for cubic features\n",
        "X_d3[0:3]"
      ]
    },
    {
      "cell_type": "markdown",
      "metadata": {
        "id": "gafJomwZWx9L"
      },
      "source": [
        "### <font color = 'blue'> **Q1-3** - Fit datasets using the given Logistic Regression classifier </font>\n",
        "\n",
        "Check if d increases, loss value decreases."
      ]
    },
    {
      "cell_type": "code",
      "execution_count": null,
      "metadata": {
        "id": "F6XIy1e2Wx9M",
        "outputId": "6da6f126-1440-4e4c-f1ba-ab8ad206bc55"
      },
      "outputs": [
        {
          "data": {
            "text/plain": [
              "65.55018492404088"
            ]
          },
          "execution_count": 21,
          "metadata": {},
          "output_type": "execute_result"
        }
      ],
      "source": [
        "#Using LogisticRegressionGD fit  x_gen, y_gen\n",
        "\n",
        "lr = LogisticRegressionGD(eta=0.00001,n_iter=100)\n",
        "\n",
        "# fit original dataset\n",
        "lr.fit(X,y)\n",
        "lr.loss_[99]"
      ]
    },
    {
      "cell_type": "code",
      "execution_count": null,
      "metadata": {
        "id": "EeApfKIGWx9M",
        "outputId": "d7d4a47e-25e6-49af-f857-f00dbfe0db62"
      },
      "outputs": [
        {
          "data": {
            "text/plain": [
              "20.59519232205817"
            ]
          },
          "execution_count": 22,
          "metadata": {},
          "output_type": "execute_result"
        }
      ],
      "source": [
        "# fit quadratic features dataset\n",
        "pr2 = LogisticRegressionGD(eta=0.00001,n_iter=100)\n",
        "pr2.fit(X_d2, y)\n",
        "pr2.loss_[99]"
      ]
    },
    {
      "cell_type": "code",
      "execution_count": null,
      "metadata": {
        "id": "4Dbo8b6KWx9M",
        "outputId": "9a1188ba-bb14-4d62-99b8-4175b4ba1ad9"
      },
      "outputs": [
        {
          "data": {
            "text/plain": [
              "2.453262037673321"
            ]
          },
          "execution_count": 23,
          "metadata": {},
          "output_type": "execute_result"
        }
      ],
      "source": [
        "# fit cubic features dataset\n",
        "pr3 = LogisticRegressionGD(eta=0.00001, n_iter=100)\n",
        "pr3.fit(X_d3, y)\n",
        "pr3.loss_[99]"
      ]
    },
    {
      "cell_type": "markdown",
      "metadata": {
        "id": "j3PjltHwWx9N"
      },
      "source": [
        "<b> Observation </b>\n",
        "    <br>\n",
        "\n",
        "Based on the output of the loss for the three datasets original, quadratic and cubic, we can infer that the loss starts to decrease as we introduce higher dimensions of the features. This proves that introducing higher dimensions of the features will help find a model that would best fit the data.\n",
        "\n",
        "But additional measures needs to be taken that it does not result in overfitting of the training data. Cross validation may help overcome this.\n",
        "    \n"
      ]
    },
    {
      "cell_type": "code",
      "execution_count": null,
      "metadata": {
        "id": "HV6DRoDxG1Rl"
      },
      "outputs": [],
      "source": [
        "# Grader's area\n",
        "\n",
        "maxScore = maxScore +12\n",
        "M[1,1] = 4\n",
        "M[1,2] = 4\n",
        "M[1,3] = 4"
      ]
    },
    {
      "cell_type": "markdown",
      "metadata": {
        "id": "6grYJ9spn6C1"
      },
      "source": [
        "-----------------------\n",
        "-----------------------\n",
        "-----------------------\n"
      ]
    },
    {
      "cell_type": "markdown",
      "metadata": {
        "id": "zW8T7xf0-uUL"
      },
      "source": [
        "## <font color = 'blue'> **Question 2. A theoretical question** </font>\n",
        "\n",
        "This question is about a theoretical explanation for what you observed in question 1(iii).\n",
        "\n",
        "<br>\n",
        "\n",
        "Suppose $f_1$ is a model that optimally fits the data $(X,y)$, and $f_2$ is another model that optimally fits the data $(X_2,y)$ where $X_2$ are the quadratic features of $X$. Then the loss function value obtained by $f_2$ is **always** going to be at least equal to that for $f_1$. Try to come up with a solid mathematical argument that justifies this claim. [Note: as with anything else, feel free to discuss this on Canvas]"
      ]
    },
    {
      "cell_type": "markdown",
      "metadata": {
        "id": "nRk7QbZLH_DY"
      },
      "source": [
        "(your answer goes here)"
      ]
    },
    {
      "cell_type": "markdown",
      "metadata": {
        "id": "7eu2lH2yWx9O"
      },
      "source": [
        "<b> Solution </b>\n",
        "    <br>\n",
        "\n",
        "\n",
        "$f_1$ is a model that optimally fits the data $(X,y)$. The hyperplane equation in this case would be\n",
        "\n",
        "$$\n",
        "     y = c + b x\n",
        "$$\n",
        "(Assuming one feature)\n",
        "\n",
        "Loss function MSE in this case would be\n",
        "$$\n",
        "     E = \\frac{1}{n} \\sum_{i=0}^n  \\left( y_i -  \\hat{y}_i\\right) ^2\n",
        "$$\n",
        "$$\n",
        "     E = \\frac{1}{n} \\sum_{i=0}^n  \\left( y_i - (b x + c) \\right) ^2\n",
        "$$\n",
        "\n",
        "\n",
        "----------------------\n",
        "$f_2$ is another model that optimally fits the data $(X_2,y)$\n",
        "The equation of the hyperplane in this case is\n",
        "\n",
        "$$\n",
        "    y = c + b x + a x^2\n",
        "$$\n",
        "\n",
        "Loss function MSE in this case would be\n",
        "$$\n",
        "     E = \\frac{1}{n} \\sum_{i=0}^n  \\left( y_i -  \\hat{y}_i\\right) ^2\n",
        "$$\n",
        "\n",
        "$$\n",
        "     E = \\frac{1}{n} \\sum_{i=0}^n  \\left( y_i - (a x^2 + b x + c) \\right) ^2\n",
        "$$\n",
        "\n",
        "----------------------\n",
        "Comparing both the loss functions we can see that the f2 loss function has the addtional component a X ^ 2. Lets assume that a = 0, then loss of f2 is same as that of f1. So f2's loss is atleast equal to f1's loss even is the a coefficient becomes 0."
      ]
    },
    {
      "cell_type": "code",
      "execution_count": null,
      "metadata": {
        "id": "WJrBDgJYBQZL"
      },
      "outputs": [],
      "source": [
        "# Grader's area\n",
        "\n",
        "maxScore = maxScore + 4\n",
        "M[2,1] = 4\n"
      ]
    },
    {
      "cell_type": "markdown",
      "metadata": {
        "id": "vxiK-qoin6_-"
      },
      "source": [
        "-----------------------\n",
        "-----------------------\n",
        "-----------------------\n"
      ]
    },
    {
      "cell_type": "markdown",
      "metadata": {
        "id": "YMEcdAp3-uT-"
      },
      "source": [
        "##  <font color = 'blue'> **Question 3. Logistic Regression: How 'unfair' can it be?**  </font>\n",
        "\n",
        "We have seen that the inductive bias of an SVC guarantees that when the dataset is linearly separable, SVC will return a hyperplane that is at exactly the same distance from the two classes.  But what about logistic regression? Can we guarantee that it can also be at least partially fair?\n",
        "\n",
        "The answer is **negative**. We can  demonstrate how logistic regression can be 'unfair' by constructing a dataset with the properties that: <br>\n",
        "\n",
        "**a.** the data set is linearly separable  <br>\n",
        "**b.** the optimal logistic regression model corresponds to a hyperplane that nearly 'touches' one of the two classes, i.e. it gives a very big margin to the one of the two classes and very small margin for the other class.  <br>\n",
        "\n",
        "Demonstrate your answer as follows: <br>\n",
        "\n",
        "<font color = 'blue'> **Q3-1**.  </font>\n",
        " Plot the data points, as we did above for the iris data set. This will show that your data set is linearly separable. <br>\n",
        "<font color = 'blue'> **Q3-2**.  </font> Calculate the optimal logistic neuron weights using the function *LogisticRegressionGD* from question 1. <br>\n",
        "<font color = 'blue'> **Q3-3**. </font>  Plot the decision regions to demonstrate how the learned separation line is unfair.\n",
        "\n",
        "**Hint**: Try small datasets.\n",
        "**Note**: It's best to use fresh variables for your dataset, because the previous $X,y$ are re-used in question 4.\n"
      ]
    },
    {
      "cell_type": "markdown",
      "metadata": {
        "id": "g_p_BGQ3Wx9P"
      },
      "source": [
        "<font color = 'blue'> **Q3-1**.  </font>\n",
        " Plot the data points, as we did above for the iris data set. This will show that your data set is linearly separable. <br>"
      ]
    },
    {
      "cell_type": "code",
      "execution_count": null,
      "metadata": {
        "id": "LejWjUeapllz"
      },
      "outputs": [],
      "source": [
        "# To generate dataset, Iris dataset is reduced to pick first and last few points\n",
        "# Also modify few datapoints\n",
        "y1 = df.iloc[0:5, 4].values\n",
        "y1 = np.where(y1 == 'Iris-setosa', 1, 0)\n",
        "\n",
        "y2 = df.iloc[50:55, 4].values\n",
        "y2 = np.where(y2 == 'Iris-setosa', 1, 0)\n",
        "\n",
        "# extract sepal length and petal length\n",
        "X1 = df.iloc[:5, [0, 2]].values\n",
        "\n",
        "# extract sepal length and petal length\n",
        "X2 = df.iloc[50:55, [0, 2]].values\n",
        "\n",
        "X1[4] = [5. , 3.2]"
      ]
    },
    {
      "cell_type": "code",
      "execution_count": null,
      "metadata": {
        "id": "RNqoXLVBWx9P"
      },
      "outputs": [],
      "source": [
        "y_gen = np.hstack((y1,y2))"
      ]
    },
    {
      "cell_type": "code",
      "execution_count": null,
      "metadata": {
        "id": "oxC8CnmYWx9Q"
      },
      "outputs": [],
      "source": [
        "x_gen = np.vstack((X1,X2))"
      ]
    },
    {
      "cell_type": "code",
      "execution_count": null,
      "metadata": {
        "id": "3FheTwxZWx9Q",
        "outputId": "4ff47f19-7c36-41ce-f9e8-66a29cc54448"
      },
      "outputs": [
        {
          "data": {
            "image/png": "[encoded data removed]",
            "text/plain": [
              "<Figure size 432x288 with 1 Axes>"
            ]
          },
          "metadata": {
            "needs_background": "light"
          },
          "output_type": "display_data"
        }
      ],
      "source": [
        "# plot generated data\n",
        "plt.scatter(x_gen[:5, 0], x_gen[:5, 1],\n",
        "            color='red', marker='o', label='setosa')\n",
        "plt.scatter(x_gen[5:10, 0], x_gen[5:10, 1],\n",
        "            color='blue', marker='x', label='versicolor')\n",
        "\n",
        "plt.xlabel('sepal length [cm]')\n",
        "plt.ylabel('petal length [cm]')\n",
        "plt.legend(loc='upper left')\n",
        "\n",
        "\n",
        "# plt.savefig('images/02_06.png', dpi=300)\n",
        "plt.show()"
      ]
    },
    {
      "cell_type": "markdown",
      "metadata": {
        "id": "r6FQO5LFWx9Q"
      },
      "source": [
        "<font color = 'blue'> **Q3-2**.  </font> Calculate the optimal logistic neuron weights using the function *LogisticRegressionGD* from question 1. <br>"
      ]
    },
    {
      "cell_type": "code",
      "execution_count": null,
      "metadata": {
        "id": "L-LHjknoWx9Q",
        "outputId": "4e330ba6-6e16-4fa6-cba7-2a01cc01d281"
      },
      "outputs": [
        {
          "name": "stdout",
          "output_type": "stream",
          "text": [
            "Weights for the logistic neuron : [ 2.12390521  1.94419197 -3.76702042]\n"
          ]
        }
      ],
      "source": [
        "#Using LogisticRegressionGD fit  x_gen, y_gen\n",
        "lr_gen = LogisticRegressionGD(eta=0.01, n_iter=1000)\n",
        "\n",
        "# fit generated dataset\n",
        "lr_gen.fit(x_gen,y_gen)\n",
        "\n",
        "print(\"Weights for the logistic neuron : {}\".format(lr_gen.w_))"
      ]
    },
    {
      "cell_type": "markdown",
      "metadata": {
        "id": "GQuStNY0Wx9Q"
      },
      "source": [
        "<font color = 'blue'> **Q3-3**. </font>  Plot the decision regions to demonstrate how the learned separation line is unfair."
      ]
    },
    {
      "cell_type": "code",
      "execution_count": null,
      "metadata": {
        "scrolled": true,
        "id": "syH7jKOtWx9R",
        "outputId": "1afb7cda-bcd0-4476-f8f2-3dc1f5b43c94"
      },
      "outputs": [
        {
          "data": {
            "image/png": "[encoded data removed]",
            "text/plain": [
              "<Figure size 432x288 with 1 Axes>"
            ]
          },
          "metadata": {
            "needs_background": "light"
          },
          "output_type": "display_data"
        }
      ],
      "source": [
        "plot_decision_regions(x_gen, y_gen, lr_gen)"
      ]
    },
    {
      "cell_type": "markdown",
      "metadata": {
        "id": "UjnNrnn7Wx9R"
      },
      "source": [
        "<b>Observation: </b>\n",
        "<br>\n",
        "The above plot shows that although the dataset is linearly separable and the hyperplane separates the two classes, but the boundary is not fair. The margin for the red point is more."
      ]
    },
    {
      "cell_type": "code",
      "execution_count": null,
      "metadata": {
        "id": "ayVRy0pxlBDP"
      },
      "outputs": [],
      "source": [
        "# Grader's area\n",
        "\n",
        "maxScore = maxScore + 12\n",
        "M[3,1] = 4\n",
        "M[3,2] = 4\n",
        "M[3,3] = 4\n"
      ]
    },
    {
      "cell_type": "markdown",
      "metadata": {
        "id": "Z2ZazaTq1GzQ"
      },
      "source": [
        "<font color = 'blue'> **Q3-4**.  </font> The standard scikit-learn implementation of logistic regression uses regularization by default ($C=1$).  Can you come up with a linearly separable dataset that makes that **default** implementation fail? <br>\n",
        "\n",
        "[Note: This is an experimental question. You should be able to use the example from above, or modify it, and make the default implementation fail.]"
      ]
    },
    {
      "cell_type": "code",
      "execution_count": null,
      "metadata": {
        "id": "yrSMBWyD2mKC"
      },
      "outputs": [],
      "source": [
        "# Modify dataset above to make the default implementation fail\n",
        "x_gen[4] = [5. , 4.5]"
      ]
    },
    {
      "cell_type": "code",
      "execution_count": null,
      "metadata": {
        "id": "XN-VON-12oqM",
        "outputId": "3ad5c911-9e29-40dc-dbc8-ba29d0153ac8"
      },
      "outputs": [
        {
          "data": {
            "text/plain": [
              "LogisticRegression()"
            ]
          },
          "execution_count": 34,
          "metadata": {},
          "output_type": "execute_result"
        }
      ],
      "source": [
        "from sklearn.linear_model import LogisticRegression\n",
        "\n",
        "# fit the modified dataset C=1 (default)\n",
        "lr_d = LogisticRegression()\n",
        "lr_d.fit(x_gen,y_gen)"
      ]
    },
    {
      "cell_type": "code",
      "execution_count": null,
      "metadata": {
        "id": "yfezzgVuWx9S",
        "outputId": "071f6fad-96d5-4fd2-e708-62ac6e6009a6"
      },
      "outputs": [
        {
          "data": {
            "image/png": "[encoded data removed]",
            "text/plain": [
              "<Figure size 432x288 with 1 Axes>"
            ]
          },
          "metadata": {
            "needs_background": "light"
          },
          "output_type": "display_data"
        }
      ],
      "source": [
        "# Below plot shows the default implmentation fails to classify one point\n",
        "plot_decision_regions(x_gen, y_gen, lr_d)"
      ]
    },
    {
      "cell_type": "code",
      "execution_count": null,
      "metadata": {
        "id": "CGuzUNhwWx9S",
        "outputId": "332e33f1-f312-4f74-8bbb-d8d39956207a"
      },
      "outputs": [
        {
          "data": {
            "image/png": "[encoded data removed]",
            "text/plain": [
              "<Figure size 432x288 with 1 Axes>"
            ]
          },
          "metadata": {
            "needs_background": "light"
          },
          "output_type": "display_data"
        }
      ],
      "source": [
        "# fit the modified dataset with C=100, this classifies all points correctly\n",
        "lr_n = LogisticRegression(C=100)\n",
        "lr_n.fit(x_gen,y_gen)\n",
        "\n",
        "plot_decision_regions(x_gen, y_gen, lr_n)"
      ]
    },
    {
      "cell_type": "code",
      "execution_count": null,
      "metadata": {
        "id": "ZlN9ptsC2rz_"
      },
      "outputs": [],
      "source": [
        "# Grader's area\n",
        "maxScore = maxScore + 4\n",
        "\n",
        "M[3,4] = 4"
      ]
    },
    {
      "cell_type": "markdown",
      "metadata": {
        "id": "kffsOAaln8C_"
      },
      "source": [
        "-----------------------\n",
        "-----------------------\n",
        "-----------------------\n"
      ]
    },
    {
      "cell_type": "markdown",
      "metadata": {
        "id": "uVUZKNB2kod6"
      },
      "source": [
        "##  <font color = 'blue'> **Question 4. SVC and classification margin**  </font>\n",
        "\n",
        "The Iris dataset defined in above cells is linearly separable.\n",
        "\n",
        "<font color = 'blue'> **Q4-1.**  </font> Use a [linear SVC](https://scikit-learn.org/stable/modules/generated/sklearn.svm.LinearSVC.html) to learn a hyperplane $y=w_1x_1 +w_2x_2 +b$ that maximizes the margin for this Iris dataset. In your answer, specify a setting for the hyperparameter $C$ that reduces the amount of regularization, i.e. it incentivizes very small slacks.\n",
        "\n",
        "<font color = 'blue'> **Q4-2.** </font> Extract the coefficients $w$ and the intercept $b$ from the learned SVC. Find the the 2-norm of $w$, $s = ||w||_2$.\n",
        "[Hint: Read the documentation in order to access the coefficients]\n",
        "\n",
        "<font color = 'blue'> **Q4-3.** </font> Set $w = w/s$ and $b=b/s$. This changes the numerical definition of the separation line, but the line is still the same.  \n",
        "\n",
        "<font color = 'blue'> **Q4-4.** </font> With the new $w$ and $b$, calculate $wx^T - b$ for each point $x$ in our dataset. This will give a range of values, let $\\gamma$ be the smallest one in absolute value. This $\\gamma$ is the margin (in fact there should be two points $x_1$ and $x_2$ of different labels, that give $wx_1^T - b = \\gamma$ and $wx_1^T - b = -\\gamma$).\n",
        "\n",
        "\n",
        "**Note:** as with anything else, feel free to discuss this on Canvas."
      ]
    },
    {
      "cell_type": "markdown",
      "metadata": {
        "id": "g7luRCLzWx9T"
      },
      "source": [
        "### <font color = 'blue'> **Q4-1** - Fit Iris dataset using LinearClassifier </font>\n"
      ]
    },
    {
      "cell_type": "code",
      "execution_count": null,
      "metadata": {
        "id": "06BvINFaWx9T",
        "outputId": "4784353e-af46-4363-f777-264b7fedeec6"
      },
      "outputs": [
        {
          "data": {
            "image/png": "[encoded data removed]",
            "text/plain": [
              "<Figure size 432x288 with 1 Axes>"
            ]
          },
          "metadata": {
            "needs_background": "light"
          },
          "output_type": "display_data"
        }
      ],
      "source": [
        "# Recreating the X and Y variables as there were modifications to the dataset in between.\n",
        "\n",
        "# select setosa and versicolor for binary classification\n",
        "y = df.iloc[0:100, 4].values\n",
        "y = np.where(y == 'Iris-setosa', 1, 0)\n",
        "\n",
        "# extract sepal length and petal length\n",
        "X = df.iloc[:100, [0, 2]].values\n",
        "\n",
        "# plot data\n",
        "plt.scatter(X[:50, 0], X[:50, 1],\n",
        "            color='red', marker='o', label='setosa')\n",
        "plt.scatter(X[50:100, 0], X[50:100, 1],\n",
        "            color='blue', marker='x', label='versicolor')\n",
        "\n",
        "plt.xlabel('sepal length [cm]')\n",
        "plt.ylabel('petal length [cm]')\n",
        "plt.legend(loc='upper left')\n",
        "\n",
        "\n",
        "# plt.savefig('images/02_06.png', dpi=300)\n",
        "plt.show()"
      ]
    },
    {
      "cell_type": "code",
      "execution_count": null,
      "metadata": {
        "scrolled": true,
        "id": "4jBaBH_mWx9U",
        "outputId": "95dab843-9380-4a69-a2b8-797d7c0bc33a"
      },
      "outputs": [
        {
          "data": {
            "image/png": "[encoded data removed]",
            "text/plain": [
              "<Figure size 432x288 with 1 Axes>"
            ]
          },
          "metadata": {
            "needs_background": "light"
          },
          "output_type": "display_data"
        }
      ],
      "source": [
        "from sklearn.model_selection import train_test_split\n",
        "from sklearn.svm import LinearSVC\n",
        "\n",
        "X_train, X_test, y_train, y_test = \\\n",
        "    train_test_split(X, y,\n",
        "                     test_size=0.20,\n",
        "                     stratify=y,\n",
        "                     random_state=1)\n",
        "\n",
        "# fit dataset using LinearSVC\n",
        "lrSVC = LinearSVC(C=1)\n",
        "lrSVC.fit(X_train, y_train)\n",
        "plot_decision_regions(X_train,\n",
        "                      y_train,\n",
        "                      classifier=lrSVC)\n"
      ]
    },
    {
      "cell_type": "code",
      "execution_count": null,
      "metadata": {
        "id": "WHVuVb0uWx9U",
        "outputId": "916ecfdc-6bc9-4baa-b4a5-451ca4bc389c"
      },
      "outputs": [
        {
          "data": {
            "text/plain": [
              "{'C': 1,\n",
              " 'class_weight': None,\n",
              " 'dual': True,\n",
              " 'fit_intercept': True,\n",
              " 'intercept_scaling': 1,\n",
              " 'loss': 'squared_hinge',\n",
              " 'max_iter': 1000,\n",
              " 'multi_class': 'ovr',\n",
              " 'penalty': 'l2',\n",
              " 'random_state': None,\n",
              " 'tol': 0.0001,\n",
              " 'verbose': 0}"
            ]
          },
          "execution_count": 40,
          "metadata": {},
          "output_type": "execute_result"
        }
      ],
      "source": [
        "##### Check all the default values\n",
        "lrSVC.get_params()"
      ]
    },
    {
      "cell_type": "code",
      "execution_count": null,
      "metadata": {
        "id": "LoSyaO_vWx9U",
        "outputId": "7d5a4928-7b6a-421f-d17e-bba5d5f48aa8"
      },
      "outputs": [
        {
          "name": "stdout",
          "output_type": "stream",
          "text": [
            "{'C': 0.0001, 'class_weight': None, 'dual': True, 'fit_intercept': True, 'intercept_scaling': 1, 'loss': 'hinge', 'max_iter': 1000, 'multi_class': 'ovr', 'penalty': 'l2', 'random_state': 1, 'tol': 0.0001, 'verbose': 0}\n",
            "Weights: [[-0.00361 -0.01123]]\n",
            "Score: 0.5\n"
          ]
        },
        {
          "data": {
            "image/png": "[encoded data removed]",
            "text/plain": [
              "<Figure size 432x288 with 1 Axes>"
            ]
          },
          "metadata": {
            "needs_background": "light"
          },
          "output_type": "display_data"
        },
        {
          "name": "stdout",
          "output_type": "stream",
          "text": [
            "{'C': 0.001, 'class_weight': None, 'dual': True, 'fit_intercept': True, 'intercept_scaling': 1, 'loss': 'hinge', 'max_iter': 1000, 'multi_class': 'ovr', 'penalty': 'l2', 'random_state': 1, 'tol': 0.0001, 'verbose': 0}\n",
            "Weights: [[-0.0361 -0.1123]]\n",
            "Score: 0.5\n"
          ]
        },
        {
          "data": {
            "image/png": "[encoded data removed]",
            "text/plain": [
              "<Figure size 432x288 with 1 Axes>"
            ]
          },
          "metadata": {
            "needs_background": "light"
          },
          "output_type": "display_data"
        },
        {
          "name": "stdout",
          "output_type": "stream",
          "text": [
            "{'C': 0.005, 'class_weight': None, 'dual': True, 'fit_intercept': True, 'intercept_scaling': 1, 'loss': 'hinge', 'max_iter': 1000, 'multi_class': 'ovr', 'penalty': 'l2', 'random_state': 1, 'tol': 0.0001, 'verbose': 0}\n",
            "Weights: [[ 0.09389567 -0.34806196]]\n",
            "Score: 0.75\n"
          ]
        },
        {
          "data": {
            "image/png": "[encoded data removed]",
            "text/plain": [
              "<Figure size 432x288 with 1 Axes>"
            ]
          },
          "metadata": {
            "needs_background": "light"
          },
          "output_type": "display_data"
        },
        {
          "name": "stdout",
          "output_type": "stream",
          "text": [
            "{'C': 0.01, 'class_weight': None, 'dual': True, 'fit_intercept': True, 'intercept_scaling': 1, 'loss': 'hinge', 'max_iter': 1000, 'multi_class': 'ovr', 'penalty': 'l2', 'random_state': 1, 'tol': 0.0001, 'verbose': 0}\n",
            "Weights: [[ 0.28099127 -0.62050655]]\n",
            "Score: 1.0\n"
          ]
        },
        {
          "data": {
            "image/png": "[encoded data removed]",
            "text/plain": [
              "<Figure size 432x288 with 1 Axes>"
            ]
          },
          "metadata": {
            "needs_background": "light"
          },
          "output_type": "display_data"
        }
      ],
      "source": [
        "# Plot decision boundary for the lrSVC classifier to check if all datapoints are correctly classified\n",
        "#plot_decision_regions(X, y, lrSVC, resolution=0.02)\n",
        "\n",
        "# Initializing a vector to test different C Values and find minimum value that can correctly classify all datapoints.\n",
        "# As when C^-1 is big , optimization incentivizes smaller weights\n",
        "C_in = [0.0001,0.001,0.005,0.01]\n",
        "\n",
        "for i in C_in:\n",
        "    lrSVC=LinearSVC(C=i,loss = 'hinge',random_state=1)\n",
        "    lrSVC.fit(X_train, y_train)\n",
        "    print(lrSVC.get_params())\n",
        "    print(\"Weights: {}\".format(lrSVC.coef_))\n",
        "    print(\"Score: {}\".format(lrSVC.score(X_test,y_test)))\n",
        "    plot_decision_regions(X_train,\n",
        "                      y_train,\n",
        "                      classifier=lrSVC)\n",
        "    plt.xlabel('petal length [standardized]')\n",
        "    plt.ylabel('petal width [standardized]')\n",
        "    plt.legend(loc='upper left')\n",
        "    plt.tight_layout()\n",
        "    plt.title('LinearSVC with C = '+str(i))\n",
        "    #plt.savefig('images/03_11.png', dpi=300)\n",
        "    plt.show()\n"
      ]
    },
    {
      "cell_type": "markdown",
      "metadata": {
        "id": "2xk-4MkPWx9U"
      },
      "source": [
        "<b> Observation: </b>\n",
        "By default, C parameter has a value of 1 for LinearSVC. If C parameter is low, penalty given to misclassification is less and hence at C=0.0001, all the points are misclassified and regularization is high in this case.\n",
        "<br>\n",
        "With C = 0.01, we can see that all points are correctly classified and with C being still low, we could get a maximum margin hyperplane separating the classes."
      ]
    },
    {
      "cell_type": "markdown",
      "metadata": {
        "id": "MJ9qEen7Wx9V"
      },
      "source": [
        "<font color = 'blue'> **Q4-2.** </font> Extract the coefficients $w$ and the intercept $b$ from the learned SVC. Find the the 2-norm of $w$, $s = ||w||_2$.\n",
        "[Hint: Read the documentation in order to access the coefficients]"
      ]
    },
    {
      "cell_type": "code",
      "execution_count": null,
      "metadata": {
        "id": "NZkuSk3QWx9V",
        "outputId": "3b4a45e3-8d25-49f9-e6f5-520b0e89aec0"
      },
      "outputs": [
        {
          "name": "stdout",
          "output_type": "stream",
          "text": [
            "Weights assigned to the features : w1 = 0.3306731482688406 , w2 = -0.7037301398804389 \n"
          ]
        }
      ],
      "source": [
        "# Choosing C as 0. as that gives the max weights an\n",
        "lrSVC=LinearSVC(C=0.01,loss = 'hinge')\n",
        "lrSVC.fit(X, y)\n",
        "\n",
        "# To get weights assigned to the features\n",
        "\n",
        "print(\"Weights assigned to the features : w1 = {} , w2 = {} \".format(lrSVC.coef_[0][0],lrSVC.coef_[0][1] ))\n",
        "w = lrSVC.coef_[0]"
      ]
    },
    {
      "cell_type": "code",
      "execution_count": null,
      "metadata": {
        "id": "Td-JMoq4Wx9V",
        "outputId": "14997170-b85a-40f9-eef4-a9a7104f60b0"
      },
      "outputs": [
        {
          "name": "stdout",
          "output_type": "stream",
          "text": [
            "Intercept : 0.12921418119283123\n"
          ]
        }
      ],
      "source": [
        "# To get the intercept\n",
        "print(\"Intercept : {}\".format(lrSVC.intercept_[0]))\n",
        "b = lrSVC.intercept_[0]"
      ]
    },
    {
      "cell_type": "code",
      "execution_count": null,
      "metadata": {
        "id": "oyWK3rWPWx9V",
        "outputId": "0a9d8720-aa7d-41ac-b2c6-60a45c313d8b"
      },
      "outputs": [
        {
          "name": "stdout",
          "output_type": "stream",
          "text": [
            "0.7775479668561732\n"
          ]
        }
      ],
      "source": [
        "# Calculate 2-norm of w\n",
        "s = np.linalg.norm(w)\n",
        "print(s)"
      ]
    },
    {
      "cell_type": "markdown",
      "metadata": {
        "id": "3nynK_0iWx9W"
      },
      "source": [
        "<font color = 'blue'> **Q4-3.** </font> Set $w = w/s$ and $b=b/s$. This changes the numerical definition of the separation line, but the line is still the same.  "
      ]
    },
    {
      "cell_type": "code",
      "execution_count": null,
      "metadata": {
        "id": "vFFvespuWx9W"
      },
      "outputs": [],
      "source": [
        "w = w/s\n",
        "b = b/s"
      ]
    },
    {
      "cell_type": "code",
      "execution_count": null,
      "metadata": {
        "id": "USHUpWRRWx9W",
        "outputId": "ddff1287-3238-45fa-ce17-744b59593910"
      },
      "outputs": [
        {
          "name": "stdout",
          "output_type": "stream",
          "text": [
            "New weights : [ 0.42527685 -0.90506331]\n",
            "New intercept : 0.1661816205568352\n"
          ]
        }
      ],
      "source": [
        "print(\"New weights : {}\".format(w))\n",
        "print(\"New intercept : {}\".format(b))"
      ]
    },
    {
      "cell_type": "markdown",
      "metadata": {
        "id": "PHsGRJTnWx9W"
      },
      "source": [
        "<font color = 'blue'> **Q4-4.** </font> With the new $w$ and $b$, calculate $wx^T - b$ for each point $x$ in our dataset. This will give a range of values, let $\\gamma$ be the smallest one in absolute value. This $\\gamma$ is the margin (in fact there should be two points $x_1$ and $x_2$ of different labels, that give $wx_1^T - b = \\gamma$ and $wx_1^T - b = -\\gamma$).\n"
      ]
    },
    {
      "cell_type": "code",
      "execution_count": null,
      "metadata": {
        "id": "btV7OuLUWx9W",
        "outputId": "400622ee-5695-4bad-b5b9-a468073a2b4b"
      },
      "outputs": [
        {
          "data": {
            "text/plain": [
              "array([[5.1, 4.9, 4.7, 4.6, 5. , 5.4, 4.6, 5. , 4.4, 4.9, 5.4, 4.8, 4.8,\n",
              "        4.3, 5.8, 5.7, 5.4, 5.1, 5.7, 5.1, 5.4, 5.1, 4.6, 5.1, 4.8, 5. ,\n",
              "        5. , 5.2, 5.2, 4.7, 4.8, 5.4, 5.2, 5.5, 4.9, 5. , 5.5, 4.9, 4.4,\n",
              "        5.1, 5. , 4.5, 4.4, 5. , 5.1, 4.8, 5.1, 4.6, 5.3, 5. , 7. , 6.4,\n",
              "        6.9, 5.5, 6.5, 5.7, 6.3, 4.9, 6.6, 5.2, 5. , 5.9, 6. , 6.1, 5.6,\n",
              "        6.7, 5.6, 5.8, 6.2, 5.6, 5.9, 6.1, 6.3, 6.1, 6.4, 6.6, 6.8, 6.7,\n",
              "        6. , 5.7, 5.5, 5.5, 5.8, 6. , 5.4, 6. , 6.7, 6.3, 5.6, 5.5, 5.5,\n",
              "        6.1, 5.8, 5. , 5.6, 5.7, 5.7, 6.2, 5.1, 5.7],\n",
              "       [1.4, 1.4, 1.3, 1.5, 1.4, 1.7, 1.4, 1.5, 1.4, 1.5, 1.5, 1.6, 1.4,\n",
              "        1.1, 1.2, 1.5, 1.3, 1.4, 1.7, 1.5, 1.7, 1.5, 1. , 1.7, 1.9, 1.6,\n",
              "        1.6, 1.5, 1.4, 1.6, 1.6, 1.5, 1.5, 1.4, 1.5, 1.2, 1.3, 1.5, 1.3,\n",
              "        1.5, 1.3, 1.3, 1.3, 1.6, 1.9, 1.4, 1.6, 1.4, 1.5, 1.4, 4.7, 4.5,\n",
              "        4.9, 4. , 4.6, 4.5, 4.7, 3.3, 4.6, 3.9, 3.5, 4.2, 4. , 4.7, 3.6,\n",
              "        4.4, 4.5, 4.1, 4.5, 3.9, 4.8, 4. , 4.9, 4.7, 4.3, 4.4, 4.8, 5. ,\n",
              "        4.5, 3.5, 3.8, 3.7, 3.9, 5.1, 4.5, 4.5, 4.7, 4.4, 4.1, 4. , 4.4,\n",
              "        4.6, 4. , 3.3, 4.2, 4.2, 4.2, 4.3, 3. , 4.1]])"
            ]
          },
          "execution_count": 47,
          "metadata": {},
          "output_type": "execute_result"
        }
      ],
      "source": [
        "X.T"
      ]
    },
    {
      "cell_type": "code",
      "execution_count": null,
      "metadata": {
        "id": "3VuA7XuDWx9X",
        "outputId": "110047ab-d913-4573-9412-151c0c521851"
      },
      "outputs": [
        {
          "name": "stdout",
          "output_type": "stream",
          "text": [
            "minimum_absolue: 0.15552695123584384\n"
          ]
        }
      ],
      "source": [
        "minimum_absolue = np.min(np.abs(np.dot(w, X.T)-b ))\n",
        "print(\"minimum_absolue: {}\".format(minimum_absolue))"
      ]
    },
    {
      "cell_type": "code",
      "execution_count": null,
      "metadata": {
        "id": "lesjApXgWx9X"
      },
      "outputs": [],
      "source": [
        "Xpos = np.dot(w, X[:50].T) - b"
      ]
    },
    {
      "cell_type": "code",
      "execution_count": null,
      "metadata": {
        "id": "emiNtVY_Wx9X",
        "outputId": "794fb3cd-6680-4969-bb7f-02d74eef736f"
      },
      "outputs": [
        {
          "data": {
            "text/plain": [
              "array([0.15552695, 0.28311001, 0.38451826, 0.42704595, 0.42704595,\n",
              "       0.43249691, 0.43794787, 0.46412267, 0.51210132, 0.51210132,\n",
              "       0.51210132, 0.52300324, 0.52300324, 0.5284542 , 0.5284542 ,\n",
              "       0.554629  , 0.56007996, 0.56007996, 0.56007996, 0.57098189,\n",
              "       0.59170572, 0.59170572, 0.60260765, 0.60805861, 0.60805861,\n",
              "       0.64513533, 0.64513533, 0.64513533, 0.65058629, 0.65603726,\n",
              "       0.66693918, 0.68766302, 0.68766302, 0.69311398, 0.69311398,\n",
              "       0.71928878, 0.7301907 , 0.73564166, 0.73564166, 0.77271839,\n",
              "       0.77271839, 0.77816935, 0.78362031, 0.87412664, 0.88502856,\n",
              "       0.90030144, 0.9057524 , 0.95373105, 0.99625873, 1.21434812])"
            ]
          },
          "execution_count": 50,
          "metadata": {},
          "output_type": "execute_result"
        }
      ],
      "source": [
        "np.sort(Xpos)"
      ]
    },
    {
      "cell_type": "code",
      "execution_count": null,
      "metadata": {
        "id": "0S_zP-moWx9Y",
        "outputId": "ca9fa95c-afd9-4b90-928e-169d7281d150"
      },
      "outputs": [
        {
          "data": {
            "text/plain": [
              "array([0.71245964, 0.90982519, 1.02650632, 1.0428592 , 1.069034  ,\n",
              "       1.17589322, 1.19224611, 1.20751898, 1.22932283, 1.23477379,\n",
              "       1.26639955, 1.29910532, 1.3143782 , 1.31982916, 1.33618205,\n",
              "       1.34163301, 1.41033549, 1.42123742, 1.44304126, 1.44741222,\n",
              "       1.44741222, 1.45831414, 1.46921606, 1.48448894, 1.49539086,\n",
              "       1.51719471, 1.52264567, 1.54336951, 1.54336951, 1.56517336,\n",
              "       1.57062432, 1.58589719, 1.60225008, 1.61860296, 1.66658161,\n",
              "       1.68730545, 1.68730545, 1.7352841 , 1.74073506, 1.80943754,\n",
              "       1.8148885 , 1.82579043, 1.82579043, 1.84214331, 1.85741619,\n",
              "       1.92174772, 1.94247156, 2.00135213, 2.23034344])"
            ]
          },
          "execution_count": 51,
          "metadata": {},
          "output_type": "execute_result"
        }
      ],
      "source": [
        "Xneg = np.dot(w, X[50:99].T) -b\n",
        "np.sort(np.abs(Xneg))"
      ]
    },
    {
      "cell_type": "markdown",
      "metadata": {
        "id": "G_mP1jylWx9Y"
      },
      "source": [
        "Checking if the minimum absolute value (gamma) satisfies $wx_1^T - b = \\gamma$ and $wx_1^T - b = -\\gamma$.\n",
        "But the value 0.16 does not satisfy. Hence choosing 0.7 as gamma which is the minimum that matches between the two classes."
      ]
    },
    {
      "cell_type": "code",
      "execution_count": null,
      "metadata": {
        "id": "DE_Ww51dWx9Y",
        "outputId": "38462358-ebaa-49a1-ad5c-9399629a5a53"
      },
      "outputs": [
        {
          "name": "stdout",
          "output_type": "stream",
          "text": [
            "Margin: 0.71\n"
          ]
        }
      ],
      "source": [
        "margin = round(np.min(np.abs(Xneg)),2)\n",
        "print(\"Margin: {}\".format(margin))"
      ]
    },
    {
      "cell_type": "code",
      "execution_count": null,
      "metadata": {
        "id": "64Pwo6Mxmv6X"
      },
      "outputs": [],
      "source": [
        "# Grader's area\n",
        "\n",
        "maxScore = maxScore + 16\n",
        "M[4,1] = 2\n",
        "M[4,2] = 3\n",
        "M[4,3] = 4\n",
        "M[4,4] = 3\n"
      ]
    },
    {
      "cell_type": "markdown",
      "metadata": {
        "id": "JTLcwDVan9x9"
      },
      "source": [
        "-----------------------\n",
        "-----------------------\n",
        "-----------------------\n"
      ]
    },
    {
      "cell_type": "markdown",
      "metadata": {
        "id": "N3ECKgmBD_aJ"
      },
      "source": [
        "##  <font color = 'blue'> **Question 5. Upper bound for perceptron errors before convergence**  </font>\n",
        "\n",
        "In this problem we will use $\\gamma$ calculated in question 4. If you have not been able to calculate it, you can 'borrow' its value from someone else that has calculated it (I expect that this can be done on Canvas).\n",
        "\n",
        "<font color = 'blue'> **Q5-1.** </font> Calculate $R = \\max_{x\\in X} ||x||_2$. In other words, find the 2-norm of all points in the dataset, and let $R$ be the maximum norm.\n",
        "\n",
        "<font color = 'blue'> **Q5-2.** </font> Calculate $maxErrors = R/\\gamma^2$. This is the maximum number of errors that a perceptron can do, in the worst case, before it convergences.\n",
        "\n",
        "<font color = 'blue'> **Q5-3.** </font> Compare $maxError$ with the actual number of errors that the perceptron does with a random initialization. [Hint: Re-use the code from assignment 2, or anything else that can provide you with that number].  \n",
        "\n",
        "\n"
      ]
    },
    {
      "cell_type": "code",
      "execution_count": null,
      "metadata": {
        "id": "5w7cJVdHWx9Z"
      },
      "outputs": [],
      "source": [
        "### Solution ####"
      ]
    },
    {
      "cell_type": "markdown",
      "metadata": {
        "id": "bfbIpvx-Wx9Z"
      },
      "source": [
        "<font color = 'blue'> **Q5-1.**  </font> Find R (max 2-norm of the dataset)"
      ]
    },
    {
      "cell_type": "code",
      "execution_count": null,
      "metadata": {
        "id": "ccvq5Z_RI8nO",
        "outputId": "6d5a1976-7a65-45e2-ddf1-807254ce31d2"
      },
      "outputs": [
        {
          "name": "stdout",
          "output_type": "stream",
          "text": [
            "Max Norm R = 8.462860036654275\n"
          ]
        }
      ],
      "source": [
        "x_norm = []\n",
        "\n",
        "for x in X:\n",
        "    norm = np.linalg.norm(x)\n",
        "    x_norm.append(norm)\n",
        "\n",
        "R = np.max(x_norm)\n",
        "print(\"Max Norm R = {}\".format(R))"
      ]
    },
    {
      "cell_type": "markdown",
      "metadata": {
        "id": "eAK9hNVwWx9a"
      },
      "source": [
        "<font color = 'blue'> **Q5-2.** </font> Calculate $maxErrors$"
      ]
    },
    {
      "cell_type": "code",
      "execution_count": null,
      "metadata": {
        "id": "KT8yPatZI-US",
        "outputId": "1fb75754-6405-42d1-977a-86c71e46d994"
      },
      "outputs": [
        {
          "name": "stdout",
          "output_type": "stream",
          "text": [
            "maxErrors = 142.07498512199965\n"
          ]
        }
      ],
      "source": [
        "maxErrors = (R/margin)**2\n",
        "print(\"maxErrors = {}\".format(maxErrors))"
      ]
    },
    {
      "cell_type": "markdown",
      "metadata": {
        "id": "eE1rAI0iWx9a"
      },
      "source": [
        "<font color = 'blue'> **Q5-3.** </font> Compare $maxError$ with the actual number of errors from Perceptron"
      ]
    },
    {
      "cell_type": "code",
      "execution_count": null,
      "metadata": {
        "id": "DOBxexZvWx9b"
      },
      "outputs": [],
      "source": [
        "# Perceptron class (copied from Assignment 2)\n",
        "import copy\n",
        "\n",
        "class Perceptron(object):\n",
        "    \"\"\"Perceptron classifier.\n",
        "\n",
        "    Parameters\n",
        "    ------------\n",
        "    eta : float\n",
        "      Learning rate (between 0.0 and 1.0)\n",
        "    n_iter : int\n",
        "      Passes over the training dataset.\n",
        "    random_state : int\n",
        "      Random number generator seed for random weight\n",
        "      initialization.\n",
        "\n",
        "    Attributes\n",
        "    -----------\n",
        "    w_ : 1d-array\n",
        "      Weights after fitting.\n",
        "    errors_ : list\n",
        "      Number of misclassifications (updates) in each epoch.\n",
        "\n",
        "    \"\"\"\n",
        "    ## grader note: the following solution uses an additional init_weight attribute\n",
        "    ## this is optional\n",
        "\n",
        "    def __init__(self, eta=0.01, n_iter=50, random_state=1, init_weight=[]):\n",
        "        self.eta = eta\n",
        "        self.n_iter = n_iter\n",
        "        self.random_state = random_state\n",
        "\n",
        "        # to force some preset init weight vector\n",
        "        self.init_weight = init_weight\n",
        "\n",
        "\n",
        "        # the number of iterations required to converge\n",
        "        # it will take the default value = -1\n",
        "        # grader note: something similar is needed in the solution\n",
        "        self.iter_trained = -1\n",
        "\n",
        "\n",
        "\n",
        "    def fit(self, X, y):\n",
        "        \"\"\"Fit training data.\n",
        "\n",
        "        Parameters\n",
        "        ----------\n",
        "        X : {array-like}, shape = [n_examples, n_features]\n",
        "          Training vectors, where n_examples is the number of examples and\n",
        "          n_features is the number of features.\n",
        "        y : array-like, shape = [n_examples]\n",
        "          Target values.\n",
        "\n",
        "        Returns\n",
        "        -------\n",
        "        self : object\n",
        "\n",
        "        \"\"\"\n",
        "        if len(self.init_weight)>0:\n",
        "            self.w_ = self.init_weight\n",
        "        else:\n",
        "            rgen = np.random.RandomState(self.random_state)\n",
        "            self.w_ = rgen.normal(loc=0.0, scale=0.01, size=1 + X.shape[1])\n",
        "        self.errors_ = []\n",
        "\n",
        "        # **** (iii)  solution here\n",
        "        # weight vector over time. A dictionary that will have the key to be the iteration number and the value to be the list of weights after processing each data point\n",
        "        self.wo_ = {}\n",
        "\n",
        "        for i in range(self.n_iter):\n",
        "            errors = 0\n",
        "            # initiate the list of weight over each data point\n",
        "            self.wo_[i] = []\n",
        "\n",
        "            for xi, target in zip(X, y):\n",
        "                update = self.eta * (target - self.predict(xi))\n",
        "                self.w_[1:] += update * xi\n",
        "                self.w_[0] += update\n",
        "\n",
        "                # **** check this: deep copy is required\n",
        "                # use deep copy to ensure variable is saved by value for historical weight\n",
        "                self.wo_[i].append(copy.deepcopy(self.w_))\n",
        "                errors += int(update != 0.0)\n",
        "            self.errors_.append(errors)\n",
        "\n",
        "            # **** (i) solution here\n",
        "            # check to see if during the epoch, if there is any weight change/error.\n",
        "            # if there is no error, we can break out of the loop since no\n",
        "            # futher training iteration is necessary\n",
        "            if errors == 0:\n",
        "                # (ii) number of iterations for complete training\n",
        "                # add 1 because python index start from 0\n",
        "                self.iter_trained = i + 1\n",
        "                break # end early\n",
        "\n",
        "        return self\n",
        "\n",
        "    def net_input(self, X):\n",
        "        \"\"\"Calculate net input\"\"\"\n",
        "        return np.dot(X, self.w_[1:]) + self.w_[0]\n",
        "\n",
        "    def predict(self, X):\n",
        "        \"\"\"Return class label after unit step\"\"\"\n",
        "        return np.where(self.net_input(X) >= 0.0, 1, 0)"
      ]
    },
    {
      "cell_type": "code",
      "execution_count": null,
      "metadata": {
        "id": "djyBu3BMWx9b",
        "outputId": "957e113f-a271-48c7-d778-55020e228bed"
      },
      "outputs": [
        {
          "name": "stdout",
          "output_type": "stream",
          "text": [
            "Perceptron max errors for eta=0.00001 : 3\n"
          ]
        }
      ],
      "source": [
        "# Reduced the ETA to check if we are getting errors greater than maxError. But the max seems to be 100.\n",
        "ppn = Perceptron()\n",
        "ppn.fit(X,y)\n",
        "maxPerceptronErr = np.max(ppn.errors_)\n",
        "print(\"Perceptron max errors for eta=0.00001 : {}\".format(maxPerceptronErr))"
      ]
    },
    {
      "cell_type": "code",
      "execution_count": null,
      "metadata": {
        "id": "OcmctQ7JWx9b",
        "outputId": "4f564b59-3cb0-4268-a667-0c432d173574"
      },
      "outputs": [
        {
          "name": "stdout",
          "output_type": "stream",
          "text": [
            "Perceptron max errors for eta=0.0000001 : 50\n"
          ]
        }
      ],
      "source": [
        "# Reduced the ETA to check if we are getting errors greater than maxError. But the max seems to be 100.\n",
        "ppn = Perceptron(eta=0.0000001,n_iter=1000)\n",
        "ppn.fit(X,y)\n",
        "maxPerceptronErr = np.max(ppn.errors_)\n",
        "print(\"Perceptron max errors for eta=0.0000001 : {}\".format(maxPerceptronErr))"
      ]
    },
    {
      "cell_type": "markdown",
      "metadata": {
        "id": "aBRMPm5SWx9c"
      },
      "source": [
        "<b> Observation: </b> <br>\n",
        "For the iris dataset, comparing the max errors from perceptron with maxErrors calculated using the formula  $maxErrors = R/\\gamma^2$,  max errors from the Perceptron is  lesser than the maxErrors we got using $maxErrors = R/\\gamma^2$."
      ]
    },
    {
      "cell_type": "code",
      "execution_count": null,
      "metadata": {
        "id": "vUts9oNyI4R7"
      },
      "outputs": [],
      "source": [
        "# Grader's area\n",
        "\n",
        "maxScore = maxScore + 12\n",
        "M[5,1] = 4\n",
        "M[5,2] = 3\n",
        "M[5,3] = 4\n",
        "\n"
      ]
    },
    {
      "cell_type": "markdown",
      "metadata": {
        "id": "fdAULOJaI_2h"
      },
      "source": [
        "----------------------------\n",
        "----------------------------\n",
        "----------------------------"
      ]
    },
    {
      "cell_type": "code",
      "execution_count": null,
      "metadata": {
        "id": "IVkneTzYCAxs"
      },
      "outputs": [],
      "source": [
        "#Grader's area\n",
        "\n",
        "rawScore = np.sum(M)\n",
        "score = rawScore*100/maxScore"
      ]
    },
    {
      "cell_type": "code",
      "execution_count": null,
      "metadata": {
        "id": "RHdcyebzleMQ",
        "colab": {
          "base_uri": "https://localhost:8080/"
        },
        "outputId": "063819d0-6e9c-414b-8eca-16ff48b89210"
      },
      "outputs": [
        {
          "output_type": "execute_result",
          "data": {
            "text/plain": [
              "91.66666666666667"
            ]
          },
          "metadata": {},
          "execution_count": 9
        }
      ],
      "source": [
        "score"
      ]
    }
  ],
  "metadata": {
    "colab": {
      "provenance": []
    },
    "kernelspec": {
      "display_name": "Python 3",
      "language": "python",
      "name": "python3"
    },
    "language_info": {
      "codemirror_mode": {
        "name": "ipython",
        "version": 3
      },
      "file_extension": ".py",
      "mimetype": "text/x-python",
      "name": "python",
      "nbconvert_exporter": "python",
      "pygments_lexer": "ipython3",
      "version": "3.8.8"
    }
  },
  "nbformat": 4,
  "nbformat_minor": 0
}